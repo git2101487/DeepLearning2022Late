{
  "nbformat": 4,
  "nbformat_minor": 0,
  "metadata": {
    "colab": {
      "provenance": [],
      "authorship_tag": "ABX9TyMYB43HlrunmOk7Vu8QcJ/c",
      "include_colab_link": true
    },
    "kernelspec": {
      "name": "python3",
      "display_name": "Python 3"
    },
    "language_info": {
      "name": "python"
    }
  },
  "cells": [
    {
      "cell_type": "markdown",
      "metadata": {
        "id": "view-in-github",
        "colab_type": "text"
      },
      "source": [
        "<a href=\"https://colab.research.google.com/github/git2101487/DeepLearning2022Late/blob/main/%E3%83%86%E3%82%B9%E3%83%880913_1.ipynb\" target=\"_parent\"><img src=\"https://colab.research.google.com/assets/colab-badge.svg\" alt=\"Open In Colab\"/></a>"
      ]
    },
    {
      "cell_type": "markdown",
      "source": [
        "#リスト型とタプル型\n",
        "##リストとタプル"
      ],
      "metadata": {
        "id": "b2jkZ0KlUkt_"
      }
    },
    {
      "cell_type": "code",
      "source": [
        "# リスト 変更可能\n",
        "list = ['アップル', 'ペン', 'ペン', 'パイナップル']\n",
        "print(list)\n",
        "print(list[1] + list[2])"
      ],
      "metadata": {
        "colab": {
          "base_uri": "https://localhost:8080/"
        },
        "id": "1YcM1wi9U2yp",
        "outputId": "4edbb636-a752-4dce-8740-cf59e91700c5"
      },
      "execution_count": null,
      "outputs": [
        {
          "output_type": "stream",
          "name": "stdout",
          "text": [
            "['アップル', 'ペン', 'ペン', 'パイナップル']\n",
            "ペンペン\n"
          ]
        }
      ]
    },
    {
      "cell_type": "code",
      "source": [
        "# タプル 変更不可\n",
        "tuple = ('アップル', 'ペン', 'ペン', 'パイナップル')\n",
        "print(tuple)\n",
        "print(tuple[1] + tuple[2])"
      ],
      "metadata": {
        "colab": {
          "base_uri": "https://localhost:8080/"
        },
        "id": "QTG1Yc4RVzVD",
        "outputId": "4a46c130-aa50-4409-bac1-02b4ee0d037e"
      },
      "execution_count": null,
      "outputs": [
        {
          "output_type": "stream",
          "name": "stdout",
          "text": [
            "('アップル', 'ペン', 'ペン', 'パイナップル')\n",
            "ペンペン\n"
          ]
        }
      ]
    },
    {
      "cell_type": "markdown",
      "source": [
        "### 構成を変更できるのはリスト\n",
        "### 構成を変更できない(固定)はタプル"
      ],
      "metadata": {
        "id": "uys5baKuXF-c"
      }
    },
    {
      "cell_type": "code",
      "source": [
        "# リストの構成変更\n",
        "print(list)\n",
        "list.append(100) # 文字列データのリストにあえて数値を追加\n",
        "print(list)\n",
        "del list[2] # リストの3番目を削除\n",
        "print(list)\n",
        "list[3] = 'ペン' # 数値100を'ペン'に更新\n",
        "print(list)\n",
        "list.insert(2, 'ペン') # 2番目の位置に'ペン'を挿入\n",
        "print(list)"
      ],
      "metadata": {
        "colab": {
          "base_uri": "https://localhost:8080/"
        },
        "id": "3Q4NIJSbWlno",
        "outputId": "4bff9a1d-e384-422c-ea06-74b4b5f53f12"
      },
      "execution_count": null,
      "outputs": [
        {
          "output_type": "stream",
          "name": "stdout",
          "text": [
            "['アップル', 'ペン', 'ペン', 'パイナップル']\n",
            "['アップル', 'ペン', 'ペン', 'パイナップル', 100]\n",
            "['アップル', 'ペン', 'パイナップル', 100]\n",
            "['アップル', 'ペン', 'パイナップル', 'ペン']\n",
            "['アップル', 'ペン', 'ペン', 'パイナップル', 'ペン']\n"
          ]
        }
      ]
    },
    {
      "cell_type": "markdown",
      "source": [
        "### リストやタプルの長さの取得"
      ],
      "metadata": {
        "id": "IYk6kmMNbIsq"
      }
    },
    {
      "cell_type": "code",
      "source": [
        "print(list)\n",
        "print(len(list)) # len()で長さを取得する"
      ],
      "metadata": {
        "colab": {
          "base_uri": "https://localhost:8080/"
        },
        "id": "04jR8-dnXiXp",
        "outputId": "55485ae9-7b85-4523-cd40-6e112ed2f90a"
      },
      "execution_count": null,
      "outputs": [
        {
          "output_type": "stream",
          "name": "stdout",
          "text": [
            "['アップル', 'ペン', 'ペン', 'パイナップル', 'ペン']\n",
            "5\n"
          ]
        }
      ]
    },
    {
      "cell_type": "markdown",
      "source": [
        "## スライス\n",
        "### データを抽出する(データを一部取り出す)"
      ],
      "metadata": {
        "id": "i2Ez7XXUb0-B"
      }
    },
    {
      "cell_type": "code",
      "source": [
        "print(list)\n",
        "print(list[1]) # 何番目の要素の指定の仕方と同じ考え方\n",
        "print(list[1:3]) # 1番目から3番目までの範囲を指定して抽出 = スライス\n",
        "print(list[1:]) # 1番目から最後までを抽出(スライス)"
      ],
      "metadata": {
        "colab": {
          "base_uri": "https://localhost:8080/"
        },
        "id": "asq6qNJxcEQR",
        "outputId": "7e343d40-2e41-4ace-c3b2-9e4216634b1a"
      },
      "execution_count": null,
      "outputs": [
        {
          "output_type": "stream",
          "name": "stdout",
          "text": [
            "['アップル', 'ペン', 'ペン', 'パイナップル', 'ペン']\n",
            "ペン\n",
            "['ペン', 'ペン']\n",
            "['ペン', 'ペン', 'パイナップル', 'ペン']\n"
          ]
        }
      ]
    },
    {
      "cell_type": "markdown",
      "source": [
        "# SET型 (集合型)\n",
        "集合型SETは、順番を持たない。重複したデータも持たない。"
      ],
      "metadata": {
        "id": "D-08oyznem8b"
      }
    },
    {
      "cell_type": "code",
      "source": [
        "# uniqという名前のset型変数\n",
        "uniq = set(['アップル', 'ペン', 'ペン', 'パイナップル'])\n",
        "print(uniq) # リストの時点では'ペン'が重複していたが、set型になって重複が消える。"
      ],
      "metadata": {
        "colab": {
          "base_uri": "https://localhost:8080/"
        },
        "id": "XPjG0K25cQ31",
        "outputId": "26dd529d-7457-4f0c-b801-18e75c7c64b7"
      },
      "execution_count": null,
      "outputs": [
        {
          "output_type": "stream",
          "name": "stdout",
          "text": [
            "{'パイナップル', 'アップル', 'ペン'}\n"
          ]
        }
      ]
    },
    {
      "cell_type": "markdown",
      "source": [
        "## 集合型の追加変更削除"
      ],
      "metadata": {
        "id": "rMffylQrgzUF"
      }
    },
    {
      "cell_type": "code",
      "source": [
        "print(uniq)\n",
        "uniq.add('バナナ') # 追加\n",
        "uniq.remove('ペン') # 削除\n",
        "print(uniq)"
      ],
      "metadata": {
        "colab": {
          "base_uri": "https://localhost:8080/"
        },
        "id": "E55IbBE7gO_U",
        "outputId": "8e4ba7e5-0aab-4ebb-c200-346e082ebce5"
      },
      "execution_count": null,
      "outputs": [
        {
          "output_type": "stream",
          "name": "stdout",
          "text": [
            "{'パイナップル', 'アップル', 'ペン'}\n",
            "{'バナナ', 'パイナップル', 'アップル'}\n"
          ]
        }
      ]
    },
    {
      "cell_type": "markdown",
      "source": [
        "#### 集合演算\n",
        "包括、積、和、差分"
      ],
      "metadata": {
        "id": "tBc_0KgeiHaz"
      }
    },
    {
      "cell_type": "code",
      "source": [
        "# uniqの値を再定義\n",
        "uniq = set(['アップル', 'ペン', 'ペン', 'パイナップル'])\n",
        "a = set(['アップル', 'ペン'])\n",
        "b = set(['ペン', 'パイナップル'])\n",
        "print(uniq)\n",
        "print(a)\n",
        "print(b)\n",
        "# 集合a は 集合uniq の subset(部分集合)である? = 包括関係\n",
        "print(a.issubset(uniq))\n",
        "# データ 'ペン'は 集合a の中にある?\n",
        "'ペン' in a"
      ],
      "metadata": {
        "colab": {
          "base_uri": "https://localhost:8080/"
        },
        "id": "o_FqfRFIhAy_",
        "outputId": "5733be11-8526-4bd5-a1be-683c71a89409"
      },
      "execution_count": null,
      "outputs": [
        {
          "output_type": "stream",
          "name": "stdout",
          "text": [
            "{'パイナップル', 'アップル', 'ペン'}\n",
            "{'アップル', 'ペン'}\n",
            "{'パイナップル', 'ペン'}\n",
            "True\n"
          ]
        },
        {
          "output_type": "execute_result",
          "data": {
            "text/plain": [
              "True"
            ]
          },
          "metadata": {},
          "execution_count": 11
        }
      ]
    },
    {
      "cell_type": "code",
      "source": [
        "# ある集合と別の集合の共通部分の要素(intersection)\n",
        "# 集合a と 集合b の共通部分\n",
        "print(a)\n",
        "print(b)\n",
        "print(a.intersection(b)) # 集合aのデータで集合bに共通のもの　:積\n",
        "\n",
        "# 集合a と 集合b の結合 :和集合(setなので重複は削除される)\n",
        "print(a.union(b)) # 集合a と 集合b の集まり\n",
        "\n",
        "# 集合a と 集合b の差集合 (aのみに含まれる集合)\n",
        "a.difference(b) #aからbを取り除いた残り(差分:difference)"
      ],
      "metadata": {
        "colab": {
          "base_uri": "https://localhost:8080/"
        },
        "id": "UCQK8HACjEoX",
        "outputId": "87eec42d-3ced-476d-a36e-842aaaa8b3b0"
      },
      "execution_count": null,
      "outputs": [
        {
          "output_type": "stream",
          "name": "stdout",
          "text": [
            "{'アップル', 'ペン'}\n",
            "{'パイナップル', 'ペン'}\n",
            "{'ペン'}\n",
            "{'パイナップル', 'アップル', 'ペン'}\n"
          ]
        },
        {
          "output_type": "execute_result",
          "data": {
            "text/plain": [
              "{'アップル'}"
            ]
          },
          "metadata": {},
          "execution_count": 14
        }
      ]
    },
    {
      "cell_type": "code",
      "source": [],
      "metadata": {
        "id": "RYLi9Gwrqo56"
      },
      "execution_count": null,
      "outputs": []
    }
  ]
}