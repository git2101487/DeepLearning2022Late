{
  "nbformat": 4,
  "nbformat_minor": 0,
  "metadata": {
    "colab": {
      "provenance": [],
      "authorship_tag": "ABX9TyN64JhCSa8uOTtV7W+x9qro",
      "include_colab_link": true
    },
    "kernelspec": {
      "name": "python3",
      "display_name": "Python 3"
    },
    "language_info": {
      "name": "python"
    }
  },
  "cells": [
    {
      "cell_type": "markdown",
      "metadata": {
        "id": "view-in-github",
        "colab_type": "text"
      },
      "source": [
        "<a href=\"https://colab.research.google.com/github/git2101487/DeepLearning2022Late/blob/main/0920%E9%96%A2%E6%95%B0%E5%AE%9A%E7%BE%A9.ipynb\" target=\"_parent\"><img src=\"https://colab.research.google.com/assets/colab-badge.svg\" alt=\"Open In Colab\"/></a>"
      ]
    },
    {
      "cell_type": "markdown",
      "source": [
        "# python3で関数を定義する\n",
        "## 関数定義"
      ],
      "metadata": {
        "id": "5QkX_AtFbSgi"
      }
    },
    {
      "cell_type": "code",
      "execution_count": 1,
      "metadata": {
        "colab": {
          "base_uri": "https://localhost:8080/"
        },
        "id": "BF6SR3cpbEWQ",
        "outputId": "95a4c6bf-8962-4304-85b1-7d8b7dc11b1c"
      },
      "outputs": [
        {
          "output_type": "stream",
          "name": "stdout",
          "text": [
            "test message!\n"
          ]
        }
      ],
      "source": [
        "# helloという関数を定義する\n",
        "# \"hello, kansuu!\" と画面表示する関数\n",
        "def hello():\n",
        "  print('hello,kansuu!') # インデントされている\n",
        "  # インデントされている命令文などは関数の範囲の中\n",
        "print('test message!') # インデントされていない\n",
        "# インデントされていない命令文などは関数の範囲の外"
      ]
    },
    {
      "cell_type": "markdown",
      "source": [
        "## 関数を実行する"
      ],
      "metadata": {
        "id": "6TnyS0hVeDtr"
      }
    },
    {
      "cell_type": "code",
      "source": [
        "# 作成した関数hello() をコールする\n",
        "hello()\n",
        "hello()"
      ],
      "metadata": {
        "colab": {
          "base_uri": "https://localhost:8080/"
        },
        "id": "bZluYzwseAQJ",
        "outputId": "d304e481-2016-4eb5-ac39-c48165428d39"
      },
      "execution_count": 3,
      "outputs": [
        {
          "output_type": "stream",
          "name": "stdout",
          "text": [
            "hello,kansuu!\n",
            "hello,kansuu!\n"
          ]
        }
      ]
    },
    {
      "cell_type": "markdown",
      "source": [
        "## 引数つきの関数を定義する"
      ],
      "metadata": {
        "id": "h0X_Ld8ge5Pc"
      }
    },
    {
      "cell_type": "code",
      "source": [
        "# 引数付きの関数 hello()を定義\n",
        "def hello(who):\n",
        "  print('hello,' + who + '!')\n",
        "# ここが関数の終わり\n",
        "\n",
        "hello('python!')"
      ],
      "metadata": {
        "colab": {
          "base_uri": "https://localhost:8080/"
        },
        "id": "Xn0RMEHKeRR2",
        "outputId": "893bb3a9-7868-43b2-c139-722d602c8b0f"
      },
      "execution_count": 4,
      "outputs": [
        {
          "output_type": "stream",
          "name": "stdout",
          "text": [
            "hello,python!!\n"
          ]
        }
      ]
    },
    {
      "cell_type": "markdown",
      "source": [
        "### 複数の引数つきの関数を定義"
      ],
      "metadata": {
        "id": "pniJDDQ4gJ52"
      }
    },
    {
      "cell_type": "code",
      "source": [
        "def hello(who, aisatsu):\n",
        "  print('hello,' + who + 'さん ' + aisatsu)\n",
        "# 関数終わり\n",
        "\n",
        "hello('田中', 'おはよう')\n",
        "hello('鈴木', 'こんにちは')"
      ],
      "metadata": {
        "colab": {
          "base_uri": "https://localhost:8080/"
        },
        "id": "2g26htKyfshy",
        "outputId": "9b2d6bb2-afb6-4356-f31d-ceecc507263e"
      },
      "execution_count": 6,
      "outputs": [
        {
          "output_type": "stream",
          "name": "stdout",
          "text": [
            "hello,田中さん おはよう\n",
            "hello,鈴木さん こんにちは\n"
          ]
        }
      ]
    },
    {
      "cell_type": "markdown",
      "source": [
        "## 関数の戻り値を定義する\n",
        "### 戻り値1つの関数を定義"
      ],
      "metadata": {
        "id": "ScUJxjoihyE7"
      }
    },
    {
      "cell_type": "code",
      "source": [
        "def helloBack(who, aisatsu):\n",
        "  return who + 'さん、' + aisatsu\n",
        "# 関数終わり\n",
        "\n",
        "# 戻り値を変数xに代入して表示\n",
        "x = helloBack('佐藤', 'こんばんは')\n",
        "print(x)"
      ],
      "metadata": {
        "colab": {
          "base_uri": "https://localhost:8080/"
        },
        "id": "m2gBoo6Sg_0q",
        "outputId": "0217310a-866c-404b-d4b8-402ac4f1ec5c"
      },
      "execution_count": 8,
      "outputs": [
        {
          "output_type": "stream",
          "name": "stdout",
          "text": [
            "佐藤さん、こんばんは\n"
          ]
        }
      ]
    },
    {
      "cell_type": "markdown",
      "source": [
        "## 複数の戻り値を返す関数を定義"
      ],
      "metadata": {
        "id": "b0z8Tz2mjRKj"
      }
    },
    {
      "cell_type": "code",
      "source": [
        "def keisan(x, y):\n",
        "  # x, y, x+y この3つの値を返す\n",
        "  return x, y, x + y\n",
        "# 関数終わり\n",
        "\n",
        "# 関数keisanを実行して戻り値を受け取る\n",
        "e, f, g = keisan(3, 6) # 戻り値が3, 6, 9になる\n",
        "print(e, f, g)"
      ],
      "metadata": {
        "colab": {
          "base_uri": "https://localhost:8080/"
        },
        "id": "GW_oLQ3rif8I",
        "outputId": "20a8e5dd-0ee4-4213-d40e-f7ff393b5ad7"
      },
      "execution_count": 10,
      "outputs": [
        {
          "output_type": "stream",
          "name": "stdout",
          "text": [
            "3 6 9\n"
          ]
        }
      ]
    },
    {
      "cell_type": "markdown",
      "source": [
        "# その他の文法\n",
        "## 分岐(if文)"
      ],
      "metadata": {
        "id": "KRHa99LzlNF7"
      }
    },
    {
      "cell_type": "code",
      "source": [
        "# if文の範囲もインデントで表す\n",
        "# numの値をしきい値で分岐する\n",
        "def over(num, thres):\n",
        "  if num > thres: # numがしきい値より大きいとき\n",
        "    print(str(num) + 'は' + str(thres) + 'より大きい')\n",
        "  else:\n",
        "    print(str(num) + 'は' + str(thres) + '以下です')\n",
        " # 分岐終わり\n",
        "# 関数終わり\n",
        "\n",
        "over(333, 100)\n",
        "over(-1, 10)"
      ],
      "metadata": {
        "colab": {
          "base_uri": "https://localhost:8080/"
        },
        "id": "aFQd01LHj5MR",
        "outputId": "d48666d9-da79-4de1-f7f2-d2e0f3083305"
      },
      "execution_count": 13,
      "outputs": [
        {
          "output_type": "stream",
          "name": "stdout",
          "text": [
            "333は100より大きい\n",
            "-1は10以下です\n"
          ]
        }
      ]
    },
    {
      "cell_type": "code",
      "source": [
        "# リストに第2引数の値が含まれるか判定\n",
        "def include(list, keyword):\n",
        "  uniq = set(list)\n",
        "  if keyword in uniq:\n",
        "    print(keyword + 'が含まれる')\n",
        "  else:\n",
        "    print(keyword + 'が含まれない')\n",
        "  # 分岐終わり\n",
        "# 関数終わり\n",
        "\n",
        "# リストを引き渡して作成した関数を実行する\n",
        "list_1 = ['アップル', 'ペン ', 'ペン', 'パイナップル'] # 第1引数に使うリスト\n",
        "include(list_1, 'パイナップル')\n",
        "include(list_1, 'バナナ')"
      ],
      "metadata": {
        "colab": {
          "base_uri": "https://localhost:8080/"
        },
        "id": "gSAb8ljPno3U",
        "outputId": "7f1751b5-01a8-46b6-8cb0-0084a12820e7"
      },
      "execution_count": 14,
      "outputs": [
        {
          "output_type": "stream",
          "name": "stdout",
          "text": [
            "パイナップルが含まれる\n",
            "バナナが含まれない\n"
          ]
        }
      ]
    },
    {
      "cell_type": "markdown",
      "source": [
        "## 繰り返し文(while文)"
      ],
      "metadata": {
        "id": "chHsirTLwZs0"
      }
    },
    {
      "cell_type": "code",
      "source": [
        "# while文は条件がtrueの間 繰り返す\n",
        "\n",
        "def count(max):\n",
        "  num = 0\n",
        "  while num < max: # numがmax未満の間、繰り返す\n",
        "    print(num)\n",
        "    num += 1\n",
        "  # whileの繰り返し終わり\n",
        "# 関数終わり\n",
        "\n",
        "count(5) # 作成した関数に引数を引き渡して実行"
      ],
      "metadata": {
        "colab": {
          "base_uri": "https://localhost:8080/"
        },
        "id": "ThShaN8-vvSj",
        "outputId": "6d04236c-6d57-4007-8764-7b7a8119d6c6"
      },
      "execution_count": 16,
      "outputs": [
        {
          "output_type": "stream",
          "name": "stdout",
          "text": [
            "0\n",
            "1\n",
            "2\n",
            "3\n",
            "4\n"
          ]
        }
      ]
    },
    {
      "cell_type": "markdown",
      "source": [
        "## 繰り返し文(for文)\n",
        "\n",
        "### 変数βの集合から1つずつ取り出して変数αとして使う\n",
        "\n",
        "for 変数α in range(変数β):"
      ],
      "metadata": {
        "id": "QAND8zLFyoMX"
      }
    },
    {
      "cell_type": "code",
      "source": [
        "# 集合(コレクション)の中から取り出して繰り返し\n",
        "def every(array):\n",
        "  for x in array: # arrayの中から1つずつデータを取り出しxに代入\n",
        "    print(x)\n",
        "  # for文終わり\n",
        "# 関数終わり\n",
        "\n",
        "list = [1, 2, 3]\n",
        "every(list)\n",
        "tuple = (4, 5, 6)\n",
        "every(tuple)\n",
        "\n",
        "# 辞書型もコレクション\n",
        "dict = {'a':7, 'b':8, 'c':9}\n",
        "every(dict) # キーワードの一覧表示\n",
        "values = dict.values() # 値のリストを取得\n",
        "every(values) # 値の一覧表示\n",
        "\n",
        "# 文字列も文字配列としてコレクション扱いができる\n",
        "every('dog') # d o g として表示"
      ],
      "metadata": {
        "colab": {
          "base_uri": "https://localhost:8080/"
        },
        "id": "lMPOWQY-ymZG",
        "outputId": "0a563d2b-2548-4592-f9d8-d2d3db335c06"
      },
      "execution_count": 26,
      "outputs": [
        {
          "output_type": "stream",
          "name": "stdout",
          "text": [
            "1\n",
            "2\n",
            "3\n",
            "4\n",
            "5\n",
            "6\n",
            "a\n",
            "b\n",
            "c\n",
            "7\n",
            "8\n",
            "9\n",
            "d\n",
            "o\n",
            "g\n"
          ]
        }
      ]
    },
    {
      "cell_type": "code",
      "source": [
        "# カウンター変数で繰り返す\n",
        "# for n in range(数値) 0～数値未満繰り返す\n",
        "\n",
        "def count(num):\n",
        "  for i in range(num): # 0～num 繰り返す\n",
        "    print(i)\n",
        "  # 繰り返し終わり\n",
        "# 関数の終わり\n",
        "\n",
        "count(3) # 3 = 0, 1, 2 で繰り返す"
      ],
      "metadata": {
        "colab": {
          "base_uri": "https://localhost:8080/"
        },
        "id": "6-AsTK4s0NJj",
        "outputId": "4ffa0cc9-799c-410a-b3ea-3ce7c55f4cce"
      },
      "execution_count": 27,
      "outputs": [
        {
          "output_type": "stream",
          "name": "stdout",
          "text": [
            "0\n",
            "1\n",
            "2\n"
          ]
        }
      ]
    },
    {
      "cell_type": "markdown",
      "source": [
        "## 繰り返しを中断したいときは、break命令"
      ],
      "metadata": {
        "id": "F4DOIzJW4jHJ"
      }
    },
    {
      "cell_type": "code",
      "source": [
        "def stop(array):\n",
        "  for i in array:\n",
        "    if i >= 4:\n",
        "      break\n",
        "    print(i)\n",
        "    # 分岐終わり\n",
        "  # ループ終わり\n",
        "# 関数終わり\n",
        "\n",
        "list = [1, 2, 3, 4, 5, 1, 2, 3, 4, 5]\n",
        "stop(list)"
      ],
      "metadata": {
        "colab": {
          "base_uri": "https://localhost:8080/"
        },
        "id": "3L1z5dgx384Y",
        "outputId": "9460e12c-84d7-4edc-f000-4ecdcd59d360"
      },
      "execution_count": 28,
      "outputs": [
        {
          "output_type": "stream",
          "name": "stdout",
          "text": [
            "1\n",
            "2\n",
            "3\n"
          ]
        }
      ]
    },
    {
      "cell_type": "markdown",
      "source": [
        "## 繰り返しをスキップしたいときは、continue命令"
      ],
      "metadata": {
        "id": "srVjzwMS6fv-"
      }
    },
    {
      "cell_type": "code",
      "source": [
        "def skip(array):\n",
        "  for i in array:\n",
        "    if i >= 4:\n",
        "      continue # 以降のループ内処理をスキップする\n",
        "    # 分岐終わり\n",
        "    print(i)\n",
        "  # 繰り返し終わり\n",
        "# 関数終わり\n",
        "\n",
        "list = [1, 2, 3, 4, 5, 1, 2, 3, 4, 5]\n",
        "skip(list)"
      ],
      "metadata": {
        "colab": {
          "base_uri": "https://localhost:8080/"
        },
        "id": "959EN4UR59BZ",
        "outputId": "6e459baf-66e9-4d6f-db2e-c1aed8f8f565"
      },
      "execution_count": 30,
      "outputs": [
        {
          "output_type": "stream",
          "name": "stdout",
          "text": [
            "1\n",
            "2\n",
            "3\n",
            "1\n",
            "2\n",
            "3\n"
          ]
        }
      ]
    },
    {
      "cell_type": "code",
      "source": [],
      "metadata": {
        "id": "gMl8HYrW7RUn"
      },
      "execution_count": null,
      "outputs": []
    }
  ]
}