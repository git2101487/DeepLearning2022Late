{
  "nbformat": 4,
  "nbformat_minor": 0,
  "metadata": {
    "colab": {
      "provenance": [],
      "authorship_tag": "ABX9TyNYm1lZWGTDSzFFgvjllVSk",
      "include_colab_link": true
    },
    "kernelspec": {
      "name": "python3",
      "display_name": "Python 3"
    },
    "language_info": {
      "name": "python"
    }
  },
  "cells": [
    {
      "cell_type": "markdown",
      "metadata": {
        "id": "view-in-github",
        "colab_type": "text"
      },
      "source": [
        "<a href=\"https://colab.research.google.com/github/git2101487/DeepLearning2022Late/blob/main/CNN%2BTrain_example2022.ipynb\" target=\"_parent\"><img src=\"https://colab.research.google.com/assets/colab-badge.svg\" alt=\"Open In Colab\"/></a>"
      ]
    },
    {
      "cell_type": "markdown",
      "source": [
        "# CNN(畳み込みを含むニューラルネットワーク)でモデルに学習させる(=訓練)"
      ],
      "metadata": {
        "id": "JPbuoB0i090k"
      }
    },
    {
      "cell_type": "markdown",
      "source": [
        "## 学習モデルのライブラリをimport"
      ],
      "metadata": {
        "id": "izLRKzLT1kYp"
      }
    },
    {
      "cell_type": "code",
      "execution_count": 11,
      "metadata": {
        "id": "NFQxB92E0mJ9"
      },
      "outputs": [],
      "source": [
        "from keras.models import Sequential, Model\n",
        "from keras.layers import Conv2D\n",
        "from keras.layers import Flatten\n",
        "from keras.layers import Dense"
      ]
    },
    {
      "cell_type": "markdown",
      "source": [
        "## keras自身もimport"
      ],
      "metadata": {
        "id": "IBS0kwrU5677"
      }
    },
    {
      "cell_type": "code",
      "source": [
        "import keras"
      ],
      "metadata": {
        "id": "LT_cn2cb6AXn"
      },
      "execution_count": 12,
      "outputs": []
    },
    {
      "cell_type": "markdown",
      "source": [
        "## SVG画像表示用のライブラリをimport"
      ],
      "metadata": {
        "id": "ajZU6S6i2i8c"
      }
    },
    {
      "cell_type": "code",
      "source": [
        "from IPython.display import SVG\n",
        "from keras.utils.vis_utils import model_to_dot"
      ],
      "metadata": {
        "id": "j7IW7wge2EC-"
      },
      "execution_count": 13,
      "outputs": []
    },
    {
      "cell_type": "markdown",
      "source": [
        "## その他のライブラリをimport"
      ],
      "metadata": {
        "id": "2QiK8a1o2_zw"
      }
    },
    {
      "cell_type": "code",
      "source": [
        "# 乱数をつくるためにNumpyをimport\n",
        "import numpy as np # importして、npという別名を設定\n",
        "# 早期終了(Earl Stopping)のためのライブラリをimport\n",
        "import keras.callbacks as callbacks # callbakcsという別名を設定"
      ],
      "metadata": {
        "id": "EeM1HH5C21Qy"
      },
      "execution_count": 14,
      "outputs": []
    },
    {
      "cell_type": "markdown",
      "source": [
        "## Numpyで乱数を作り、ダミーデータとして学習用、検証用にする"
      ],
      "metadata": {
        "id": "2Zg43g-M4m1M"
      }
    },
    {
      "cell_type": "code",
      "source": [
        "# 学習用データをx_trainとして作る\n",
        "x_train = np.random.random((100, 6, 6, 1))\n",
        "# 学習用データの正解をy_trainとして作る\n",
        "y_train = keras.utils.to_categorical(np.random.randint(10, size=(100,1)),\n",
        "                                                         num_classes=10)"
      ],
      "metadata": {
        "id": "e9TX_TWv3-Ru"
      },
      "execution_count": 15,
      "outputs": []
    },
    {
      "cell_type": "code",
      "source": [
        "# テスト検証用データをx_testとして作る\n",
        "# (6,6,1)の形を今度は20セット分\n",
        "y_test = np.random.random((20, 6, 6, 1))\n",
        "# テスト検証用データの正解をy_testとして作る\n",
        "y_test = keras.utils.to_categorical(np.random.randint(10, size=(20,1)),\n",
        "                                    num_classes=10\n",
        "                                    )"
      ],
      "metadata": {
        "id": "bR0ERSBh6h6J"
      },
      "execution_count": 16,
      "outputs": []
    },
    {
      "cell_type": "markdown",
      "source": [
        "## 学習モデルを生成する"
      ],
      "metadata": {
        "id": "NADTIhew9TWU"
      }
    },
    {
      "cell_type": "code",
      "source": [
        "model = Sequential()"
      ],
      "metadata": {
        "id": "Pp1L_RW28ey_"
      },
      "execution_count": 17,
      "outputs": []
    },
    {
      "cell_type": "markdown",
      "source": [
        "## 学習モデルにニューロン層を追加してニューラルネットワークにする"
      ],
      "metadata": {
        "id": "SMGplxKx9cBh"
      }
    },
    {
      "cell_type": "markdown",
      "source": [
        "### 畳み込み層を追加"
      ],
      "metadata": {
        "id": "kQsqzyoA91Es"
      }
    },
    {
      "cell_type": "code",
      "source": [
        "model.add(Conv2D(\n",
        "    filters=3, # フィルター3パターン\n",
        "    kernel_size=(3,3), # 受容野のサイズ縦3,横3\n",
        "    kernel_initializer='lecun_uniform',\n",
        "    input_shape=(6, 6, 1), # 入力データの形縦6,横6\n",
        "    name = 'Conv2D_1'\n",
        "))"
      ],
      "metadata": {
        "id": "5zkqk81M9an6"
      },
      "execution_count": 18,
      "outputs": []
    },
    {
      "cell_type": "markdown",
      "source": [
        "## その他の層も追加する"
      ],
      "metadata": {
        "id": "q_TOWf6VAm-n"
      }
    },
    {
      "cell_type": "code",
      "source": [
        "# 全結合層\n",
        "model.add(Flatten(name='Flatten_1'))\n",
        "# softmaxで分類するニューロン層\n",
        "model.add(Dense(units=10, activation='softmax', name='Dense_1'))"
      ],
      "metadata": {
        "id": "urXCMxjl-6N5"
      },
      "execution_count": 19,
      "outputs": []
    },
    {
      "cell_type": "markdown",
      "source": [
        "## 組み立てた学習モデルの構成を、SVG画像として表示\n",
        "\n"
      ],
      "metadata": {
        "id": "HfwdL0DDAl_8"
      }
    },
    {
      "cell_type": "code",
      "source": [
        "SVG(model_to_dot(model,\n",
        "                 show_shapes=True, dpi=None\n",
        "                ).create(prog='dot', format='svg'))"
      ],
      "metadata": {
        "colab": {
          "base_uri": "https://localhost:8080/",
          "height": 427
        },
        "id": "PuCyjVrYHqri",
        "outputId": "0bc89e86-6cc6-4bf8-d555-82e17d162292"
      },
      "execution_count": 22,
      "outputs": [
        {
          "output_type": "execute_result",
          "data": {
            "text/plain": [
              "<IPython.core.display.SVG object>"
            ],
            "image/svg+xml": "<svg height=\"304pt\" viewBox=\"0.00 0.00 368.00 304.00\" width=\"368pt\" xmlns=\"http://www.w3.org/2000/svg\" xmlns:xlink=\"http://www.w3.org/1999/xlink\">\n<g class=\"graph\" id=\"graph0\" transform=\"scale(1 1) rotate(0) translate(4 300)\">\n<title>G</title>\n<polygon fill=\"#ffffff\" points=\"-4,4 -4,-300 364,-300 364,4 -4,4\" stroke=\"transparent\"/>\n<!-- dpi -->\n<g class=\"node\" id=\"node1\">\n<title>dpi</title>\n<ellipse cx=\"27\" cy=\"-272.5\" fill=\"none\" rx=\"27\" ry=\"18\" stroke=\"#000000\"/>\n<text fill=\"#000000\" font-family=\"Times,serif\" font-size=\"14.00\" text-anchor=\"middle\" x=\"27\" y=\"-268.8\">dpi</text>\n</g>\n<!-- 140657378020880 -->\n<g class=\"node\" id=\"node2\">\n<title>140657378020880</title>\n<polygon fill=\"none\" points=\"72,-249.5 72,-295.5 360,-295.5 360,-249.5 72,-249.5\" stroke=\"#000000\"/>\n<text fill=\"#000000\" font-family=\"Times,serif\" font-size=\"14.00\" text-anchor=\"middle\" x=\"131.5\" y=\"-280.3\">Conv2D_1_input</text>\n<polyline fill=\"none\" points=\"72,-272.5 191,-272.5 \" stroke=\"#000000\"/>\n<text fill=\"#000000\" font-family=\"Times,serif\" font-size=\"14.00\" text-anchor=\"middle\" x=\"131.5\" y=\"-257.3\">InputLayer</text>\n<polyline fill=\"none\" points=\"191,-249.5 191,-295.5 \" stroke=\"#000000\"/>\n<text fill=\"#000000\" font-family=\"Times,serif\" font-size=\"14.00\" text-anchor=\"middle\" x=\"220\" y=\"-280.3\">input:</text>\n<polyline fill=\"none\" points=\"191,-272.5 249,-272.5 \" stroke=\"#000000\"/>\n<text fill=\"#000000\" font-family=\"Times,serif\" font-size=\"14.00\" text-anchor=\"middle\" x=\"220\" y=\"-257.3\">output:</text>\n<polyline fill=\"none\" points=\"249,-249.5 249,-295.5 \" stroke=\"#000000\"/>\n<text fill=\"#000000\" font-family=\"Times,serif\" font-size=\"14.00\" text-anchor=\"middle\" x=\"304.5\" y=\"-280.3\">[(None, 6, 6, 1)]</text>\n<polyline fill=\"none\" points=\"249,-272.5 360,-272.5 \" stroke=\"#000000\"/>\n<text fill=\"#000000\" font-family=\"Times,serif\" font-size=\"14.00\" text-anchor=\"middle\" x=\"304.5\" y=\"-257.3\">[(None, 6, 6, 1)]</text>\n</g>\n<!-- 140657378709904 -->\n<g class=\"node\" id=\"node3\">\n<title>140657378709904</title>\n<polygon fill=\"none\" points=\"95,-166.5 95,-212.5 337,-212.5 337,-166.5 95,-166.5\" stroke=\"#000000\"/>\n<text fill=\"#000000\" font-family=\"Times,serif\" font-size=\"14.00\" text-anchor=\"middle\" x=\"136\" y=\"-197.3\">Conv2D_1</text>\n<polyline fill=\"none\" points=\"95,-189.5 177,-189.5 \" stroke=\"#000000\"/>\n<text fill=\"#000000\" font-family=\"Times,serif\" font-size=\"14.00\" text-anchor=\"middle\" x=\"136\" y=\"-174.3\">Conv2D</text>\n<polyline fill=\"none\" points=\"177,-166.5 177,-212.5 \" stroke=\"#000000\"/>\n<text fill=\"#000000\" font-family=\"Times,serif\" font-size=\"14.00\" text-anchor=\"middle\" x=\"206\" y=\"-197.3\">input:</text>\n<polyline fill=\"none\" points=\"177,-189.5 235,-189.5 \" stroke=\"#000000\"/>\n<text fill=\"#000000\" font-family=\"Times,serif\" font-size=\"14.00\" text-anchor=\"middle\" x=\"206\" y=\"-174.3\">output:</text>\n<polyline fill=\"none\" points=\"235,-166.5 235,-212.5 \" stroke=\"#000000\"/>\n<text fill=\"#000000\" font-family=\"Times,serif\" font-size=\"14.00\" text-anchor=\"middle\" x=\"286\" y=\"-197.3\">(None, 6, 6, 1)</text>\n<polyline fill=\"none\" points=\"235,-189.5 337,-189.5 \" stroke=\"#000000\"/>\n<text fill=\"#000000\" font-family=\"Times,serif\" font-size=\"14.00\" text-anchor=\"middle\" x=\"286\" y=\"-174.3\">(None, 4, 4, 3)</text>\n</g>\n<!-- 140657378020880&#45;&gt;140657378709904 -->\n<g class=\"edge\" id=\"edge1\">\n<title>140657378020880-&gt;140657378709904</title>\n<path d=\"M216,-249.3799C216,-241.1745 216,-231.7679 216,-222.8786\" fill=\"none\" stroke=\"#000000\"/>\n<polygon fill=\"#000000\" points=\"219.5001,-222.784 216,-212.784 212.5001,-222.784 219.5001,-222.784\" stroke=\"#000000\"/>\n</g>\n<!-- 140657501300048 -->\n<g class=\"node\" id=\"node4\">\n<title>140657501300048</title>\n<polygon fill=\"none\" points=\"100.5,-83.5 100.5,-129.5 331.5,-129.5 331.5,-83.5 100.5,-83.5\" stroke=\"#000000\"/>\n<text fill=\"#000000\" font-family=\"Times,serif\" font-size=\"14.00\" text-anchor=\"middle\" x=\"136\" y=\"-114.3\">Flatten_1</text>\n<polyline fill=\"none\" points=\"100.5,-106.5 171.5,-106.5 \" stroke=\"#000000\"/>\n<text fill=\"#000000\" font-family=\"Times,serif\" font-size=\"14.00\" text-anchor=\"middle\" x=\"136\" y=\"-91.3\">Flatten</text>\n<polyline fill=\"none\" points=\"171.5,-83.5 171.5,-129.5 \" stroke=\"#000000\"/>\n<text fill=\"#000000\" font-family=\"Times,serif\" font-size=\"14.00\" text-anchor=\"middle\" x=\"200.5\" y=\"-114.3\">input:</text>\n<polyline fill=\"none\" points=\"171.5,-106.5 229.5,-106.5 \" stroke=\"#000000\"/>\n<text fill=\"#000000\" font-family=\"Times,serif\" font-size=\"14.00\" text-anchor=\"middle\" x=\"200.5\" y=\"-91.3\">output:</text>\n<polyline fill=\"none\" points=\"229.5,-83.5 229.5,-129.5 \" stroke=\"#000000\"/>\n<text fill=\"#000000\" font-family=\"Times,serif\" font-size=\"14.00\" text-anchor=\"middle\" x=\"280.5\" y=\"-114.3\">(None, 4, 4, 3)</text>\n<polyline fill=\"none\" points=\"229.5,-106.5 331.5,-106.5 \" stroke=\"#000000\"/>\n<text fill=\"#000000\" font-family=\"Times,serif\" font-size=\"14.00\" text-anchor=\"middle\" x=\"280.5\" y=\"-91.3\">(None, 48)</text>\n</g>\n<!-- 140657378709904&#45;&gt;140657501300048 -->\n<g class=\"edge\" id=\"edge2\">\n<title>140657378709904-&gt;140657501300048</title>\n<path d=\"M216,-166.3799C216,-158.1745 216,-148.7679 216,-139.8786\" fill=\"none\" stroke=\"#000000\"/>\n<polygon fill=\"#000000\" points=\"219.5001,-139.784 216,-129.784 212.5001,-139.784 219.5001,-139.784\" stroke=\"#000000\"/>\n</g>\n<!-- 140657378402256 -->\n<g class=\"node\" id=\"node5\">\n<title>140657378402256</title>\n<polygon fill=\"none\" points=\"113.5,-.5 113.5,-46.5 318.5,-46.5 318.5,-.5 113.5,-.5\" stroke=\"#000000\"/>\n<text fill=\"#000000\" font-family=\"Times,serif\" font-size=\"14.00\" text-anchor=\"middle\" x=\"147\" y=\"-31.3\">Dense_1</text>\n<polyline fill=\"none\" points=\"113.5,-23.5 180.5,-23.5 \" stroke=\"#000000\"/>\n<text fill=\"#000000\" font-family=\"Times,serif\" font-size=\"14.00\" text-anchor=\"middle\" x=\"147\" y=\"-8.3\">Dense</text>\n<polyline fill=\"none\" points=\"180.5,-.5 180.5,-46.5 \" stroke=\"#000000\"/>\n<text fill=\"#000000\" font-family=\"Times,serif\" font-size=\"14.00\" text-anchor=\"middle\" x=\"209.5\" y=\"-31.3\">input:</text>\n<polyline fill=\"none\" points=\"180.5,-23.5 238.5,-23.5 \" stroke=\"#000000\"/>\n<text fill=\"#000000\" font-family=\"Times,serif\" font-size=\"14.00\" text-anchor=\"middle\" x=\"209.5\" y=\"-8.3\">output:</text>\n<polyline fill=\"none\" points=\"238.5,-.5 238.5,-46.5 \" stroke=\"#000000\"/>\n<text fill=\"#000000\" font-family=\"Times,serif\" font-size=\"14.00\" text-anchor=\"middle\" x=\"278.5\" y=\"-31.3\">(None, 48)</text>\n<polyline fill=\"none\" points=\"238.5,-23.5 318.5,-23.5 \" stroke=\"#000000\"/>\n<text fill=\"#000000\" font-family=\"Times,serif\" font-size=\"14.00\" text-anchor=\"middle\" x=\"278.5\" y=\"-8.3\">(None, 10)</text>\n</g>\n<!-- 140657501300048&#45;&gt;140657378402256 -->\n<g class=\"edge\" id=\"edge3\">\n<title>140657501300048-&gt;140657378402256</title>\n<path d=\"M216,-83.3799C216,-75.1745 216,-65.7679 216,-56.8786\" fill=\"none\" stroke=\"#000000\"/>\n<polygon fill=\"#000000\" points=\"219.5001,-56.784 216,-46.784 212.5001,-56.784 219.5001,-56.784\" stroke=\"#000000\"/>\n</g>\n</g>\n</svg>"
          },
          "metadata": {},
          "execution_count": 22
        }
      ]
    },
    {
      "cell_type": "markdown",
      "source": [
        "## 組み立てたモデルを学習データで訓練する\n",
        "### 早期終了も設定する"
      ],
      "metadata": {
        "id": "KtiSEn41IVC4"
      }
    },
    {
      "cell_type": "code",
      "source": [
        "# 早期終了用の設定オブジェクトを用意する\n",
        "earlyStopping = callbacks.EarlyStopping(monitor='val_loss', # 損失を監視\n",
        "                                        patience=5) # epoch5つ分様子を見る"
      ],
      "metadata": {
        "id": "w-FqNUHfIEVd"
      },
      "execution_count": 24,
      "outputs": []
    },
    {
      "cell_type": "markdown",
      "source": [
        "## 学習方法を指定して学習モデルをコンパイルする"
      ],
      "metadata": {
        "id": "5uoMDWOzLRKx"
      }
    },
    {
      "cell_type": "code",
      "source": [
        "model.compile(loss='mean_squared_error', # 平均(mean)二乗(Suqared)誤差(Error)で計算\n",
        "              optimizer='sgd' # パラメータの重みをSDGで最適化する\n",
        "              # SGD = 確率的勾配降下法\n",
        "              )"
      ],
      "metadata": {
        "id": "pyO9c0stJ9AI"
      },
      "execution_count": 25,
      "outputs": []
    },
    {
      "cell_type": "markdown",
      "source": [
        "## 学習方法を指定した学習モデルを訓練する"
      ],
      "metadata": {
        "id": "2tGrMbvQNRTX"
      }
    },
    {
      "cell_type": "code",
      "source": [
        "model.fit(x_train, y_train, # 学習データと答えデータ\n",
        "          batch_size=32, # 32個ずつまとめて学習(=バッチ)してから重みを調整する\n",
        "          epochs=10, # バッチが終わったら重みを調整して学習しなおす、その回数\n",
        "          callbacks=[earlyStopping], # エポックの中で呼ぶcallback処理のリストに早期終了を追加\n",
        "          validation_split=0.2 # 学習データの内2割を、学習中の自己評価検証に使う\n",
        "          )"
      ],
      "metadata": {
        "colab": {
          "base_uri": "https://localhost:8080/"
        },
        "id": "3gNMh1oENY1L",
        "outputId": "7f993f6c-7da1-47bd-fd80-c6a24fc535ba"
      },
      "execution_count": 26,
      "outputs": [
        {
          "output_type": "stream",
          "name": "stdout",
          "text": [
            "Epoch 1/10\n",
            "3/3 [==============================] - 1s 106ms/step - loss: 0.0918 - val_loss: 0.0900\n",
            "Epoch 2/10\n",
            "3/3 [==============================] - 0s 15ms/step - loss: 0.0918 - val_loss: 0.0900\n",
            "Epoch 3/10\n",
            "3/3 [==============================] - 0s 15ms/step - loss: 0.0918 - val_loss: 0.0900\n",
            "Epoch 4/10\n",
            "3/3 [==============================] - 0s 24ms/step - loss: 0.0918 - val_loss: 0.0900\n",
            "Epoch 5/10\n",
            "3/3 [==============================] - 0s 18ms/step - loss: 0.0918 - val_loss: 0.0900\n",
            "Epoch 6/10\n",
            "3/3 [==============================] - 0s 15ms/step - loss: 0.0918 - val_loss: 0.0900\n",
            "Epoch 7/10\n",
            "3/3 [==============================] - 0s 14ms/step - loss: 0.0918 - val_loss: 0.0900\n",
            "Epoch 8/10\n",
            "3/3 [==============================] - 0s 17ms/step - loss: 0.0918 - val_loss: 0.0900\n",
            "Epoch 9/10\n",
            "3/3 [==============================] - 0s 14ms/step - loss: 0.0918 - val_loss: 0.0900\n",
            "Epoch 10/10\n",
            "3/3 [==============================] - 0s 14ms/step - loss: 0.0918 - val_loss: 0.0900\n"
          ]
        },
        {
          "output_type": "execute_result",
          "data": {
            "text/plain": [
              "<keras.callbacks.History at 0x7fed56e5be50>"
            ]
          },
          "metadata": {},
          "execution_count": 26
        }
      ]
    },
    {
      "cell_type": "code",
      "source": [],
      "metadata": {
        "id": "YKJ0YjHmQSTl"
      },
      "execution_count": null,
      "outputs": []
    }
  ]
}