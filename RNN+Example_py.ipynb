{
  "nbformat": 4,
  "nbformat_minor": 0,
  "metadata": {
    "colab": {
      "provenance": [],
      "authorship_tag": "ABX9TyPHp/e/oY5RfMD105N6/MLY",
      "include_colab_link": true
    },
    "kernelspec": {
      "name": "python3",
      "display_name": "Python 3"
    },
    "language_info": {
      "name": "python"
    },
    "accelerator": "GPU",
    "gpuClass": "standard"
  },
  "cells": [
    {
      "cell_type": "markdown",
      "metadata": {
        "id": "view-in-github",
        "colab_type": "text"
      },
      "source": [
        "<a href=\"https://colab.research.google.com/github/git2101487/DeepLearning2022Late/blob/main/RNN%2BExample_py.ipynb\" target=\"_parent\"><img src=\"https://colab.research.google.com/assets/colab-badge.svg\" alt=\"Open In Colab\"/></a>"
      ]
    },
    {
      "cell_type": "markdown",
      "source": [
        "# LSTMを使ったRNNを実装する"
      ],
      "metadata": {
        "id": "_FU920xYImDJ"
      }
    },
    {
      "cell_type": "markdown",
      "source": [
        "## ライブラリのimport"
      ],
      "metadata": {
        "id": "tU_nnDq9I0tC"
      }
    },
    {
      "cell_type": "code",
      "execution_count": 2,
      "metadata": {
        "id": "fl2gwECPIP_a"
      },
      "outputs": [],
      "source": [
        "from keras.models import Sequential, Model\n",
        "from keras.layers import Input, Embedding, LSTM, Dense"
      ]
    },
    {
      "cell_type": "code",
      "source": [
        "# from keras.layers.wrappers import TimeDistributed\n",
        "from tensorflow.keras.layers import TimeDistributed"
      ],
      "metadata": {
        "id": "-bIWdXfzJOzc"
      },
      "execution_count": 3,
      "outputs": []
    },
    {
      "cell_type": "markdown",
      "source": [
        "# データセット(imdb)の読み込み"
      ],
      "metadata": {
        "id": "Vk1GHU5HKvwh"
      }
    },
    {
      "cell_type": "code",
      "source": [
        "from keras.datasets import imdb"
      ],
      "metadata": {
        "id": "JAuotsGCKhbZ"
      },
      "execution_count": 4,
      "outputs": []
    },
    {
      "cell_type": "markdown",
      "source": [
        "### SVGの表示に必要なライブラリのimport"
      ],
      "metadata": {
        "id": "dWizRAGQLQyh"
      }
    },
    {
      "cell_type": "code",
      "source": [
        "from IPython.display import SVG\n",
        "from keras.utils.vis_utils import model_to_dot"
      ],
      "metadata": {
        "id": "OJM9TKcrLQON"
      },
      "execution_count": 5,
      "outputs": []
    },
    {
      "cell_type": "markdown",
      "source": [
        "### Numpyなどのツールの読み込み"
      ],
      "metadata": {
        "id": "ae2PVG73L3Xy"
      }
    },
    {
      "cell_type": "code",
      "source": [
        "import numpy as np\n",
        "from keras.utils import to_categorical, np_utils"
      ],
      "metadata": {
        "id": "Pk2AsGBQL1xb"
      },
      "execution_count": 7,
      "outputs": []
    },
    {
      "cell_type": "markdown",
      "source": [
        "### データ数、バッチ数など、各種定数を定義する"
      ],
      "metadata": {
        "id": "pp3YQe6sMtUl"
      }
    },
    {
      "cell_type": "code",
      "source": [
        "train_reviews = 5000\n",
        "valid_reviews = 100\n",
        "max_features = 5000\n",
        "embedding_size = 256\n",
        "step_size = 5\n",
        "batch_size = 32\n",
        "index_from = 2\n",
        "rnn_units = 128\n",
        "epochs = 2\n",
        "word_index_prev = {'<PAD>':0, '<START>':1, '<UNK>':2}"
      ],
      "metadata": {
        "id": "r45oMhoXMF7y"
      },
      "execution_count": 8,
      "outputs": []
    },
    {
      "cell_type": "markdown",
      "source": [
        "## IMDBデータセットを読み込む"
      ],
      "metadata": {
        "id": "FKvnIw5wN_qb"
      }
    },
    {
      "cell_type": "code",
      "source": [
        "(x_train, y_train), (x_test, y_test) = imdb.load_data(num_words=max_features, index_from=index_from)"
      ],
      "metadata": {
        "colab": {
          "base_uri": "https://localhost:8080/"
        },
        "id": "7L_2msklN_E-",
        "outputId": "6736b83e-d881-4079-a49e-5a661b4e3a53"
      },
      "execution_count": 9,
      "outputs": [
        {
          "output_type": "stream",
          "name": "stdout",
          "text": [
            "Downloading data from https://storage.googleapis.com/tensorflow/tf-keras-datasets/imdb.npz\n",
            "17464789/17464789 [==============================] - 0s 0us/step\n"
          ]
        }
      ]
    },
    {
      "cell_type": "markdown",
      "source": [
        "### 読み込んだデータを加工する(単語に関する情報を抜き出す)"
      ],
      "metadata": {
        "id": "xKYh0RN4P-p-"
      }
    },
    {
      "cell_type": "code",
      "source": [
        "word_index = {word:(index+index_from)\n",
        "for word, index in imdb.get_word_index().items() if (index + index_from) < max_features}\n",
        "word_index.update(word_index_prev)"
      ],
      "metadata": {
        "colab": {
          "base_uri": "https://localhost:8080/"
        },
        "id": "3VoExZAAOwPA",
        "outputId": "e4b15344-d8f1-4e56-a9c8-5c70716c39a5"
      },
      "execution_count": 10,
      "outputs": [
        {
          "output_type": "stream",
          "name": "stdout",
          "text": [
            "Downloading data from https://storage.googleapis.com/tensorflow/tf-keras-datasets/imdb_word_index.json\n",
            "1641221/1641221 [==============================] - 0s 0us/step\n"
          ]
        }
      ]
    },
    {
      "cell_type": "markdown",
      "source": [
        "### 加工した単語情報から辞書を作成する"
      ],
      "metadata": {
        "id": "H4MqSRuFSqsr"
      }
    },
    {
      "cell_type": "code",
      "source": [
        "index_word = {index: word for word, index in word_index.items()}"
      ],
      "metadata": {
        "id": "C44o3FpNSxBs"
      },
      "execution_count": 12,
      "outputs": []
    },
    {
      "cell_type": "markdown",
      "source": [
        "## 文章を表示する関数を定義する"
      ],
      "metadata": {
        "id": "qTV_xKUcSi9K"
      }
    },
    {
      "cell_type": "code",
      "source": [
        "def print_sentence(sentence):\n",
        "  for index in sentence:\n",
        "    print(index_word[index], end=\" \")\n",
        "  # ループ終わり\n",
        "  print()\n",
        "# 関数定義終わり"
      ],
      "metadata": {
        "id": "bsF-C1OSQq57"
      },
      "execution_count": 13,
      "outputs": []
    },
    {
      "cell_type": "markdown",
      "source": [
        "### 定義した関数print_sentenceで学習用データの1行目を表示してみる"
      ],
      "metadata": {
        "id": "HJ53-j2WTNvt"
      }
    },
    {
      "cell_type": "code",
      "source": [
        "print_sentence(x_train[0])"
      ],
      "metadata": {
        "colab": {
          "base_uri": "https://localhost:8080/"
        },
        "id": "scveReC0TMw2",
        "outputId": "3552cad6-8d92-481d-9c77-1069b231c4f1"
      },
      "execution_count": 14,
      "outputs": [
        {
          "output_type": "stream",
          "name": "stdout",
          "text": [
            "<START> this film was just brilliant casting location scenery story direction everyone's really suited the part they played and you could just imagine being there robert <UNK> is an amazing actor and now the same being director <UNK> father came from the same scottish island as myself so i loved the fact there was a real connection with this film the witty remarks throughout the film were great it was just brilliant so much that i bought the film as soon as it was released for <UNK> and would recommend it to everyone to watch and the fly <UNK> was amazing really cried at the end it was so sad and you know what they say if you cry at a film it must have been good and this definitely was also <UNK> to the two little <UNK> that played the <UNK> of norman and paul they were just brilliant children are often left out of the <UNK> list i think because the stars that play them all grown up are such a big <UNK> for the whole film but these children are amazing and should be <UNK> for what they have done don't you think the whole story was so lovely because it was true and was someone's life after all that was <UNK> with us all \n"
          ]
        }
      ]
    },
    {
      "cell_type": "markdown",
      "source": [
        "## 学習用のtrainデータを学習用とバリデーション検証用に分ける"
      ],
      "metadata": {
        "id": "6q8_4uP1UFqG"
      }
    },
    {
      "cell_type": "code",
      "source": [
        "# train_reviews = 5000\n",
        "# valid_reviews = 100 にわける\n",
        "# 学習用 5000件\n",
        "data_train = [t for s in x_train[:train_reviews] for t in s]\n",
        "# バリデーション用 100\n",
        "data_valid = [t for s in x_train[train_reviews:train_reviews+valid_reviews] for t in s]"
      ],
      "metadata": {
        "id": "vWac8NsUUB2j"
      },
      "execution_count": 15,
      "outputs": []
    },
    {
      "cell_type": "markdown",
      "source": [
        "## バッチ処理のための関数を定義する"
      ],
      "metadata": {
        "id": "10wcUmIZWPzi"
      }
    },
    {
      "cell_type": "code",
      "source": [
        "def batch_generator(data, batcf_size, step_size):\n",
        "  seg_len = len(data) // batch_size\n",
        "  steps_per_epoch = seg_len // step_size\n",
        "  data_seg_list = np.asarray([data[int(i*seg_len):int((i+1)*seg_len)]\n",
        "                              for i in range(batch_size)])\n",
        "  i = 0\n",
        "  while True:\n",
        "    x = data_seg_list[:, int(i*step_size):int((i+1)*step_size)]\n",
        "    y = np.asarray([to_categorical(\n",
        "    data_seg_list[j, int(i*step_size+1):int((i+1)*step_size+1)],max_features)\n",
        "    for j in range(batch_size)])\n",
        "    yield x, y\n",
        "    i += 1\n",
        "    if i >= steps_per_epoch:\n",
        "      i=0\n",
        "    # if文終わり\n",
        "  # while文終わり\n",
        "# 関数def終わり"
      ],
      "metadata": {
        "id": "ebRs-uOfVu4a"
      },
      "execution_count": 17,
      "outputs": []
    },
    {
      "cell_type": "markdown",
      "source": [
        "## 学習モデルを組み立てる"
      ],
      "metadata": {
        "id": "0vqxcTsGgrAs"
      }
    },
    {
      "cell_type": "code",
      "source": [
        "w = Input(shape=(step_size,), name='Input') # 入力層\n",
        "x = Embedding(input_dim=max_features, output_dim=embedding_size, name='Enbedding')(w)\n",
        "y = LSTM(units=rnn_units, return_sequences=True, dropout=0.5,recurrent_dropout=0.5, name='LSTM')(x)\n",
        "w_next = TimeDistributed(Dense(units=max_features, activation='softmax', name='Dense'),name='TimeDistributed')(y)\n",
        "# モデルのインスタンスを生成\n",
        "model = Model(inputs=[w], outputs=[w_next])"
      ],
      "metadata": {
        "colab": {
          "base_uri": "https://localhost:8080/"
        },
        "id": "e67Mrn7rgakA",
        "outputId": "3fb89108-5ddf-4c03-a813-697b598d8efa"
      },
      "execution_count": 20,
      "outputs": [
        {
          "output_type": "stream",
          "name": "stderr",
          "text": [
            "WARNING:tensorflow:Layer LSTM will not use cuDNN kernels since it doesn't meet the criteria. It will use a generic GPU kernel as fallback when running on GPU.\n"
          ]
        }
      ]
    },
    {
      "cell_type": "markdown",
      "source": [
        "### 生成したモデルオブジェクトの形をSVGで表示"
      ],
      "metadata": {
        "id": "EZu49hr-j07v"
      }
    },
    {
      "cell_type": "code",
      "source": [
        "SVG(model_to_dot(model, show_shapes=True, dpi=None).create(prog='dot',format='svg'))"
      ],
      "metadata": {
        "colab": {
          "base_uri": "https://localhost:8080/",
          "height": 427
        },
        "id": "vgggxr98iywX",
        "outputId": "2b779f2e-13bd-46e5-84e8-d15a6b4eaca4"
      },
      "execution_count": 22,
      "outputs": [
        {
          "output_type": "execute_result",
          "data": {
            "text/plain": [
              "<IPython.core.display.SVG object>"
            ],
            "image/svg+xml": "<svg xmlns=\"http://www.w3.org/2000/svg\" xmlns:xlink=\"http://www.w3.org/1999/xlink\" width=\"351pt\" height=\"304pt\" viewBox=\"0.00 0.00 351.00 304.00\">\n<g id=\"graph0\" class=\"graph\" transform=\"scale(1 1) rotate(0) translate(4 300)\">\n<title>G</title>\n<polygon fill=\"#ffffff\" stroke=\"transparent\" points=\"-4,4 -4,-300 347,-300 347,4 -4,4\"/>\n<!-- dpi -->\n<g id=\"node1\" class=\"node\">\n<title>dpi</title>\n<ellipse fill=\"none\" stroke=\"#000000\" cx=\"27\" cy=\"-272.5\" rx=\"27\" ry=\"18\"/>\n<text text-anchor=\"middle\" x=\"27\" y=\"-268.8\" font-family=\"Times,serif\" font-size=\"14.00\" fill=\"#000000\">dpi</text>\n</g>\n<!-- 139753456860848 -->\n<g id=\"node2\" class=\"node\">\n<title>139753456860848</title>\n<polygon fill=\"none\" stroke=\"#000000\" points=\"72.5,-249.5 72.5,-295.5 291.5,-295.5 291.5,-249.5 72.5,-249.5\"/>\n<text text-anchor=\"middle\" x=\"112.5\" y=\"-280.3\" font-family=\"Times,serif\" font-size=\"14.00\" fill=\"#000000\">Input</text>\n<polyline fill=\"none\" stroke=\"#000000\" points=\"72.5,-272.5 152.5,-272.5 \"/>\n<text text-anchor=\"middle\" x=\"112.5\" y=\"-257.3\" font-family=\"Times,serif\" font-size=\"14.00\" fill=\"#000000\">InputLayer</text>\n<polyline fill=\"none\" stroke=\"#000000\" points=\"152.5,-249.5 152.5,-295.5 \"/>\n<text text-anchor=\"middle\" x=\"181.5\" y=\"-280.3\" font-family=\"Times,serif\" font-size=\"14.00\" fill=\"#000000\">input:</text>\n<polyline fill=\"none\" stroke=\"#000000\" points=\"152.5,-272.5 210.5,-272.5 \"/>\n<text text-anchor=\"middle\" x=\"181.5\" y=\"-257.3\" font-family=\"Times,serif\" font-size=\"14.00\" fill=\"#000000\">output:</text>\n<polyline fill=\"none\" stroke=\"#000000\" points=\"210.5,-249.5 210.5,-295.5 \"/>\n<text text-anchor=\"middle\" x=\"251\" y=\"-280.3\" font-family=\"Times,serif\" font-size=\"14.00\" fill=\"#000000\">[(None, 5)]</text>\n<polyline fill=\"none\" stroke=\"#000000\" points=\"210.5,-272.5 291.5,-272.5 \"/>\n<text text-anchor=\"middle\" x=\"251\" y=\"-257.3\" font-family=\"Times,serif\" font-size=\"14.00\" fill=\"#000000\">[(None, 5)]</text>\n</g>\n<!-- 139753456859168 -->\n<g id=\"node3\" class=\"node\">\n<title>139753456859168</title>\n<polygon fill=\"none\" stroke=\"#000000\" points=\"60,-166.5 60,-212.5 304,-212.5 304,-166.5 60,-166.5\"/>\n<text text-anchor=\"middle\" x=\"102\" y=\"-197.3\" font-family=\"Times,serif\" font-size=\"14.00\" fill=\"#000000\">Enbedding</text>\n<polyline fill=\"none\" stroke=\"#000000\" points=\"60,-189.5 144,-189.5 \"/>\n<text text-anchor=\"middle\" x=\"102\" y=\"-174.3\" font-family=\"Times,serif\" font-size=\"14.00\" fill=\"#000000\">Embedding</text>\n<polyline fill=\"none\" stroke=\"#000000\" points=\"144,-166.5 144,-212.5 \"/>\n<text text-anchor=\"middle\" x=\"173\" y=\"-197.3\" font-family=\"Times,serif\" font-size=\"14.00\" fill=\"#000000\">input:</text>\n<polyline fill=\"none\" stroke=\"#000000\" points=\"144,-189.5 202,-189.5 \"/>\n<text text-anchor=\"middle\" x=\"173\" y=\"-174.3\" font-family=\"Times,serif\" font-size=\"14.00\" fill=\"#000000\">output:</text>\n<polyline fill=\"none\" stroke=\"#000000\" points=\"202,-166.5 202,-212.5 \"/>\n<text text-anchor=\"middle\" x=\"253\" y=\"-197.3\" font-family=\"Times,serif\" font-size=\"14.00\" fill=\"#000000\">(None, 5)</text>\n<polyline fill=\"none\" stroke=\"#000000\" points=\"202,-189.5 304,-189.5 \"/>\n<text text-anchor=\"middle\" x=\"253\" y=\"-174.3\" font-family=\"Times,serif\" font-size=\"14.00\" fill=\"#000000\">(None, 5, 256)</text>\n</g>\n<!-- 139753456860848&#45;&gt;139753456859168 -->\n<g id=\"edge1\" class=\"edge\">\n<title>139753456860848-&gt;139753456859168</title>\n<path fill=\"none\" stroke=\"#000000\" d=\"M182,-249.3799C182,-241.1745 182,-231.7679 182,-222.8786\"/>\n<polygon fill=\"#000000\" stroke=\"#000000\" points=\"185.5001,-222.784 182,-212.784 178.5001,-222.784 185.5001,-222.784\"/>\n</g>\n<!-- 139753456860800 -->\n<g id=\"node4\" class=\"node\">\n<title>139753456860800</title>\n<polygon fill=\"none\" stroke=\"#000000\" points=\"74,-83.5 74,-129.5 290,-129.5 290,-83.5 74,-83.5\"/>\n<text text-anchor=\"middle\" x=\"102\" y=\"-114.3\" font-family=\"Times,serif\" font-size=\"14.00\" fill=\"#000000\">LSTM</text>\n<polyline fill=\"none\" stroke=\"#000000\" points=\"74,-106.5 130,-106.5 \"/>\n<text text-anchor=\"middle\" x=\"102\" y=\"-91.3\" font-family=\"Times,serif\" font-size=\"14.00\" fill=\"#000000\">LSTM</text>\n<polyline fill=\"none\" stroke=\"#000000\" points=\"130,-83.5 130,-129.5 \"/>\n<text text-anchor=\"middle\" x=\"159\" y=\"-114.3\" font-family=\"Times,serif\" font-size=\"14.00\" fill=\"#000000\">input:</text>\n<polyline fill=\"none\" stroke=\"#000000\" points=\"130,-106.5 188,-106.5 \"/>\n<text text-anchor=\"middle\" x=\"159\" y=\"-91.3\" font-family=\"Times,serif\" font-size=\"14.00\" fill=\"#000000\">output:</text>\n<polyline fill=\"none\" stroke=\"#000000\" points=\"188,-83.5 188,-129.5 \"/>\n<text text-anchor=\"middle\" x=\"239\" y=\"-114.3\" font-family=\"Times,serif\" font-size=\"14.00\" fill=\"#000000\">(None, 5, 256)</text>\n<polyline fill=\"none\" stroke=\"#000000\" points=\"188,-106.5 290,-106.5 \"/>\n<text text-anchor=\"middle\" x=\"239\" y=\"-91.3\" font-family=\"Times,serif\" font-size=\"14.00\" fill=\"#000000\">(None, 5, 128)</text>\n</g>\n<!-- 139753456859168&#45;&gt;139753456860800 -->\n<g id=\"edge2\" class=\"edge\">\n<title>139753456859168-&gt;139753456860800</title>\n<path fill=\"none\" stroke=\"#000000\" d=\"M182,-166.3799C182,-158.1745 182,-148.7679 182,-139.8786\"/>\n<polygon fill=\"#000000\" stroke=\"#000000\" points=\"185.5001,-139.784 182,-129.784 178.5001,-139.784 185.5001,-139.784\"/>\n</g>\n<!-- 139753425605584 -->\n<g id=\"node5\" class=\"node\">\n<title>139753425605584</title>\n<polygon fill=\"none\" stroke=\"#000000\" points=\"21,-.5 21,-46.5 343,-46.5 343,-.5 21,-.5\"/>\n<text text-anchor=\"middle\" x=\"98\" y=\"-31.3\" font-family=\"Times,serif\" font-size=\"14.00\" fill=\"#000000\">TimeDistributed(Dense)</text>\n<polyline fill=\"none\" stroke=\"#000000\" points=\"21,-23.5 175,-23.5 \"/>\n<text text-anchor=\"middle\" x=\"98\" y=\"-8.3\" font-family=\"Times,serif\" font-size=\"14.00\" fill=\"#000000\">TimeDistributed(Dense)</text>\n<polyline fill=\"none\" stroke=\"#000000\" points=\"175,-.5 175,-46.5 \"/>\n<text text-anchor=\"middle\" x=\"204\" y=\"-31.3\" font-family=\"Times,serif\" font-size=\"14.00\" fill=\"#000000\">input:</text>\n<polyline fill=\"none\" stroke=\"#000000\" points=\"175,-23.5 233,-23.5 \"/>\n<text text-anchor=\"middle\" x=\"204\" y=\"-8.3\" font-family=\"Times,serif\" font-size=\"14.00\" fill=\"#000000\">output:</text>\n<polyline fill=\"none\" stroke=\"#000000\" points=\"233,-.5 233,-46.5 \"/>\n<text text-anchor=\"middle\" x=\"288\" y=\"-31.3\" font-family=\"Times,serif\" font-size=\"14.00\" fill=\"#000000\">(None, 5, 128)</text>\n<polyline fill=\"none\" stroke=\"#000000\" points=\"233,-23.5 343,-23.5 \"/>\n<text text-anchor=\"middle\" x=\"288\" y=\"-8.3\" font-family=\"Times,serif\" font-size=\"14.00\" fill=\"#000000\">(None, 5, 5000)</text>\n</g>\n<!-- 139753456860800&#45;&gt;139753425605584 -->\n<g id=\"edge3\" class=\"edge\">\n<title>139753456860800-&gt;139753425605584</title>\n<path fill=\"none\" stroke=\"#000000\" d=\"M182,-83.3799C182,-75.1745 182,-65.7679 182,-56.8786\"/>\n<polygon fill=\"#000000\" stroke=\"#000000\" points=\"185.5001,-56.784 182,-46.784 178.5001,-56.784 185.5001,-56.784\"/>\n</g>\n</g>\n</svg>"
          },
          "metadata": {},
          "execution_count": 22
        }
      ]
    },
    {
      "cell_type": "markdown",
      "source": [
        "### モデルのコンパイル"
      ],
      "metadata": {
        "id": "CS47NLFolN_i"
      }
    },
    {
      "cell_type": "code",
      "source": [
        "model.compile(optimizer='rmsprop', loss='categorical_crossentropy', metrics=['accuracy'])"
      ],
      "metadata": {
        "id": "Z-mPVvefk-cY"
      },
      "execution_count": 23,
      "outputs": []
    },
    {
      "cell_type": "markdown",
      "source": [
        "## 生成したモデルに学習させる(バッチごとに)"
      ],
      "metadata": {
        "id": "nhBfSVUwmdeW"
      }
    },
    {
      "cell_type": "code",
      "source": [
        "# バッチ処理用にデータセットを加工\n",
        "gen_train = batch_generator(data_train, batch_size, step_size)\n",
        "gen_valid = batch_generator(data_valid, batch_size, step_size)"
      ],
      "metadata": {
        "id": "ohQyQo75loPE"
      },
      "execution_count": 24,
      "outputs": []
    },
    {
      "cell_type": "code",
      "source": [
        "# 各データのバッチごとのステップ数を学習時に指定するために算出\n",
        "steps_per_epoch_train = len(data_train) / batch_size / step_size\n",
        "steps_per_epoch_valid = len(data_valid) / batch_size / step_size"
      ],
      "metadata": {
        "id": "4_8U16g_ns7h"
      },
      "execution_count": 25,
      "outputs": []
    },
    {
      "cell_type": "code",
      "source": [
        "# バッチ処理ごとにデータを学習とバリデーションする\n",
        "model.fit_generator(generator=gen_train, steps_per_epoch=steps_per_epoch_train,\n",
        "                    epochs=epochs,\n",
        "                    validation_data=gen_valid, validation_steps=steps_per_epoch_valid)"
      ],
      "metadata": {
        "colab": {
          "base_uri": "https://localhost:8080/"
        },
        "id": "kJJWCXZ_oMhq",
        "outputId": "117b3d97-2483-4462-e288-f4d1f4713b33"
      },
      "execution_count": 27,
      "outputs": [
        {
          "output_type": "stream",
          "name": "stdout",
          "text": [
            "Epoch 1/2\n",
            "   3/7619 [..............................] - ETA: 4:13 - loss: 5.3695 - accuracy: 0.1354"
          ]
        },
        {
          "output_type": "stream",
          "name": "stderr",
          "text": [
            "<ipython-input-27-b33d12095c70>:2: UserWarning: `Model.fit_generator` is deprecated and will be removed in a future version. Please use `Model.fit`, which supports generators.\n",
            "  model.fit_generator(generator=gen_train, steps_per_epoch=steps_per_epoch_train,\n"
          ]
        },
        {
          "output_type": "stream",
          "name": "stdout",
          "text": [
            "7619/7619 [==============================] - 310s 41ms/step - loss: 5.4201 - accuracy: 0.1677 - val_loss: 5.3940 - val_accuracy: 0.1673\n",
            "Epoch 2/2\n",
            "7619/7619 [==============================] - 311s 41ms/step - loss: 5.5114 - accuracy: 0.1725 - val_loss: 5.5213 - val_accuracy: 0.1720\n"
          ]
        },
        {
          "output_type": "execute_result",
          "data": {
            "text/plain": [
              "<keras.callbacks.History at 0x7f1ae43d3130>"
            ]
          },
          "metadata": {},
          "execution_count": 27
        }
      ]
    },
    {
      "cell_type": "markdown",
      "source": [
        "# 学習したモデルを使ってランダムに文章を作らせる"
      ],
      "metadata": {
        "id": "vwQWs_WZsd80"
      }
    },
    {
      "cell_type": "code",
      "source": [
        "# 次に来る単語を選ぶ関数\n",
        "def sample(preds, temperature=1.0):\n",
        "  preds = np.log(preds) / temperature\n",
        "  preds = np.exp(preds) / np.sum(np.exp(preds))\n",
        "  choices = range(len(preds))\n",
        "  return np.random.choice(choices, p=preds)\n",
        "# 関数終わり"
      ],
      "metadata": {
        "id": "0v4cWnkvpl9b"
      },
      "execution_count": 31,
      "outputs": []
    },
    {
      "cell_type": "code",
      "source": [
        "# ランダムに文章を生成する関数\n",
        "def sample_sentences(num_sentences, sample_sent_len = 20):\n",
        "  for x_test_i in x_test[:num_sentences]:\n",
        "    x = np.zeros((1, step_size))\n",
        "    sentence = x_test_i[:step_size]\n",
        "\n",
        "    for i in range(sample_sent_len):\n",
        "      for j, index in enumerate(sentence[-step_size:]):\n",
        "        x[0, j] = index\n",
        "      preds = model.predict(x)[0][-1]\n",
        "      next_index = sample(preds)\n",
        "      sentence.append(next_index)\n",
        "    # ループ終わり\n",
        "  print_sentence(sentence)"
      ],
      "metadata": {
        "id": "DVPd9fqVuLoQ"
      },
      "execution_count": 32,
      "outputs": []
    },
    {
      "cell_type": "code",
      "source": [
        "# ランダムに文章を抽出\n",
        "sample_sentences(num_sentences=20, sample_sent_len=15)"
      ],
      "metadata": {
        "colab": {
          "base_uri": "https://localhost:8080/"
        },
        "id": "vp1XJ3Vnwdyh",
        "outputId": "9c3843da-bc54-4a47-faa5-c7d4d9828cdc"
      },
      "execution_count": 33,
      "outputs": [
        {
          "output_type": "stream",
          "name": "stdout",
          "text": [
            "1/1 [==============================] - 0s 18ms/step\n",
            "1/1 [==============================] - 0s 19ms/step\n",
            "1/1 [==============================] - 0s 18ms/step\n",
            "1/1 [==============================] - 0s 19ms/step\n",
            "1/1 [==============================] - 0s 22ms/step\n",
            "1/1 [==============================] - 0s 20ms/step\n",
            "1/1 [==============================] - 0s 18ms/step\n",
            "1/1 [==============================] - 0s 22ms/step\n",
            "1/1 [==============================] - 0s 17ms/step\n",
            "1/1 [==============================] - 0s 19ms/step\n",
            "1/1 [==============================] - 0s 18ms/step\n",
            "1/1 [==============================] - 0s 24ms/step\n",
            "1/1 [==============================] - 0s 22ms/step\n",
            "1/1 [==============================] - 0s 19ms/step\n",
            "1/1 [==============================] - 0s 19ms/step\n",
            "1/1 [==============================] - 0s 19ms/step\n",
            "1/1 [==============================] - 0s 17ms/step\n",
            "1/1 [==============================] - 0s 16ms/step\n",
            "1/1 [==============================] - 0s 19ms/step\n",
            "1/1 [==============================] - 0s 18ms/step\n",
            "1/1 [==============================] - 0s 16ms/step\n",
            "1/1 [==============================] - 0s 17ms/step\n",
            "1/1 [==============================] - 0s 18ms/step\n",
            "1/1 [==============================] - 0s 19ms/step\n",
            "1/1 [==============================] - 0s 19ms/step\n",
            "1/1 [==============================] - 0s 17ms/step\n",
            "1/1 [==============================] - 0s 18ms/step\n",
            "1/1 [==============================] - 0s 16ms/step\n",
            "1/1 [==============================] - 0s 19ms/step\n",
            "1/1 [==============================] - 0s 18ms/step\n",
            "1/1 [==============================] - 0s 18ms/step\n",
            "1/1 [==============================] - 0s 16ms/step\n",
            "1/1 [==============================] - 0s 17ms/step\n",
            "1/1 [==============================] - 0s 18ms/step\n",
            "1/1 [==============================] - 0s 18ms/step\n",
            "1/1 [==============================] - 0s 17ms/step\n",
            "1/1 [==============================] - 0s 17ms/step\n",
            "1/1 [==============================] - 0s 17ms/step\n",
            "1/1 [==============================] - 0s 17ms/step\n",
            "1/1 [==============================] - 0s 19ms/step\n",
            "1/1 [==============================] - 0s 20ms/step\n",
            "1/1 [==============================] - 0s 18ms/step\n",
            "1/1 [==============================] - 0s 16ms/step\n",
            "1/1 [==============================] - 0s 18ms/step\n",
            "1/1 [==============================] - 0s 17ms/step\n",
            "1/1 [==============================] - 0s 19ms/step\n",
            "1/1 [==============================] - 0s 24ms/step\n",
            "1/1 [==============================] - 0s 18ms/step\n",
            "1/1 [==============================] - 0s 18ms/step\n",
            "1/1 [==============================] - 0s 18ms/step\n",
            "1/1 [==============================] - 0s 18ms/step\n",
            "1/1 [==============================] - 0s 19ms/step\n",
            "1/1 [==============================] - 0s 16ms/step\n",
            "1/1 [==============================] - 0s 20ms/step\n",
            "1/1 [==============================] - 0s 18ms/step\n",
            "1/1 [==============================] - 0s 18ms/step\n",
            "1/1 [==============================] - 0s 21ms/step\n",
            "1/1 [==============================] - 0s 19ms/step\n",
            "1/1 [==============================] - 0s 18ms/step\n",
            "1/1 [==============================] - 0s 17ms/step\n",
            "1/1 [==============================] - 0s 22ms/step\n",
            "1/1 [==============================] - 0s 17ms/step\n",
            "1/1 [==============================] - 0s 19ms/step\n",
            "1/1 [==============================] - 0s 23ms/step\n",
            "1/1 [==============================] - 0s 23ms/step\n",
            "1/1 [==============================] - 0s 18ms/step\n",
            "1/1 [==============================] - 0s 17ms/step\n",
            "1/1 [==============================] - 0s 20ms/step\n",
            "1/1 [==============================] - 0s 17ms/step\n",
            "1/1 [==============================] - 0s 19ms/step\n",
            "1/1 [==============================] - 0s 20ms/step\n",
            "1/1 [==============================] - 0s 20ms/step\n",
            "1/1 [==============================] - 0s 17ms/step\n",
            "1/1 [==============================] - 0s 17ms/step\n",
            "1/1 [==============================] - 0s 19ms/step\n",
            "1/1 [==============================] - 0s 18ms/step\n",
            "1/1 [==============================] - 0s 33ms/step\n",
            "1/1 [==============================] - 0s 16ms/step\n",
            "1/1 [==============================] - 0s 17ms/step\n",
            "1/1 [==============================] - 0s 16ms/step\n",
            "1/1 [==============================] - 0s 17ms/step\n",
            "1/1 [==============================] - 0s 16ms/step\n",
            "1/1 [==============================] - 0s 18ms/step\n",
            "1/1 [==============================] - 0s 23ms/step\n",
            "1/1 [==============================] - 0s 17ms/step\n",
            "1/1 [==============================] - 0s 19ms/step\n",
            "1/1 [==============================] - 0s 19ms/step\n",
            "1/1 [==============================] - 0s 18ms/step\n",
            "1/1 [==============================] - 0s 19ms/step\n",
            "1/1 [==============================] - 0s 16ms/step\n",
            "1/1 [==============================] - 0s 27ms/step\n",
            "1/1 [==============================] - 0s 19ms/step\n",
            "1/1 [==============================] - 0s 17ms/step\n",
            "1/1 [==============================] - 0s 17ms/step\n",
            "1/1 [==============================] - 0s 18ms/step\n",
            "1/1 [==============================] - 0s 22ms/step\n",
            "1/1 [==============================] - 0s 16ms/step\n",
            "1/1 [==============================] - 0s 17ms/step\n",
            "1/1 [==============================] - 0s 16ms/step\n",
            "1/1 [==============================] - 0s 18ms/step\n",
            "1/1 [==============================] - 0s 16ms/step\n",
            "1/1 [==============================] - 0s 19ms/step\n",
            "1/1 [==============================] - 0s 19ms/step\n",
            "1/1 [==============================] - 0s 16ms/step\n",
            "1/1 [==============================] - 0s 19ms/step\n",
            "1/1 [==============================] - 0s 16ms/step\n",
            "1/1 [==============================] - 0s 20ms/step\n",
            "1/1 [==============================] - 0s 19ms/step\n",
            "1/1 [==============================] - 0s 16ms/step\n",
            "1/1 [==============================] - 0s 19ms/step\n",
            "1/1 [==============================] - 0s 19ms/step\n",
            "1/1 [==============================] - 0s 19ms/step\n",
            "1/1 [==============================] - 0s 17ms/step\n",
            "1/1 [==============================] - 0s 16ms/step\n",
            "1/1 [==============================] - 0s 17ms/step\n",
            "1/1 [==============================] - 0s 24ms/step\n",
            "1/1 [==============================] - 0s 19ms/step\n",
            "1/1 [==============================] - 0s 17ms/step\n",
            "1/1 [==============================] - 0s 16ms/step\n",
            "1/1 [==============================] - 0s 18ms/step\n",
            "1/1 [==============================] - 0s 20ms/step\n",
            "1/1 [==============================] - 0s 17ms/step\n",
            "1/1 [==============================] - 0s 22ms/step\n",
            "1/1 [==============================] - 0s 18ms/step\n",
            "1/1 [==============================] - 0s 16ms/step\n",
            "1/1 [==============================] - 0s 17ms/step\n",
            "1/1 [==============================] - 0s 16ms/step\n",
            "1/1 [==============================] - 0s 16ms/step\n",
            "1/1 [==============================] - 0s 16ms/step\n",
            "1/1 [==============================] - 0s 20ms/step\n",
            "1/1 [==============================] - 0s 18ms/step\n",
            "1/1 [==============================] - 0s 18ms/step\n",
            "1/1 [==============================] - 0s 17ms/step\n",
            "1/1 [==============================] - 0s 17ms/step\n",
            "1/1 [==============================] - 0s 18ms/step\n",
            "1/1 [==============================] - 0s 16ms/step\n",
            "1/1 [==============================] - 0s 19ms/step\n",
            "1/1 [==============================] - 0s 18ms/step\n",
            "1/1 [==============================] - 0s 21ms/step\n",
            "1/1 [==============================] - 0s 19ms/step\n",
            "1/1 [==============================] - 0s 21ms/step\n",
            "1/1 [==============================] - 0s 19ms/step\n",
            "1/1 [==============================] - 0s 17ms/step\n",
            "1/1 [==============================] - 0s 20ms/step\n",
            "1/1 [==============================] - 0s 17ms/step\n",
            "1/1 [==============================] - 0s 17ms/step\n",
            "1/1 [==============================] - 0s 19ms/step\n",
            "1/1 [==============================] - 0s 18ms/step\n",
            "1/1 [==============================] - 0s 18ms/step\n",
            "1/1 [==============================] - 0s 17ms/step\n",
            "1/1 [==============================] - 0s 19ms/step\n",
            "1/1 [==============================] - 0s 20ms/step\n",
            "1/1 [==============================] - 0s 19ms/step\n",
            "1/1 [==============================] - 0s 18ms/step\n",
            "1/1 [==============================] - 0s 20ms/step\n",
            "1/1 [==============================] - 0s 18ms/step\n",
            "1/1 [==============================] - 0s 19ms/step\n",
            "1/1 [==============================] - 0s 21ms/step\n",
            "1/1 [==============================] - 0s 18ms/step\n",
            "1/1 [==============================] - 0s 17ms/step\n",
            "1/1 [==============================] - 0s 20ms/step\n",
            "1/1 [==============================] - 0s 19ms/step\n",
            "1/1 [==============================] - 0s 17ms/step\n",
            "1/1 [==============================] - 0s 25ms/step\n",
            "1/1 [==============================] - 0s 18ms/step\n",
            "1/1 [==============================] - 0s 18ms/step\n",
            "1/1 [==============================] - 0s 18ms/step\n",
            "1/1 [==============================] - 0s 20ms/step\n",
            "1/1 [==============================] - 0s 19ms/step\n",
            "1/1 [==============================] - 0s 22ms/step\n",
            "1/1 [==============================] - 0s 19ms/step\n",
            "1/1 [==============================] - 0s 17ms/step\n",
            "1/1 [==============================] - 0s 19ms/step\n",
            "1/1 [==============================] - 0s 18ms/step\n",
            "1/1 [==============================] - 0s 23ms/step\n",
            "1/1 [==============================] - 0s 20ms/step\n",
            "1/1 [==============================] - 0s 18ms/step\n",
            "1/1 [==============================] - 0s 17ms/step\n",
            "1/1 [==============================] - 0s 18ms/step\n",
            "1/1 [==============================] - 0s 23ms/step\n",
            "1/1 [==============================] - 0s 20ms/step\n",
            "1/1 [==============================] - 0s 19ms/step\n",
            "1/1 [==============================] - 0s 19ms/step\n",
            "1/1 [==============================] - 0s 18ms/step\n",
            "1/1 [==============================] - 0s 19ms/step\n",
            "1/1 [==============================] - 0s 24ms/step\n",
            "1/1 [==============================] - 0s 18ms/step\n",
            "1/1 [==============================] - 0s 20ms/step\n",
            "1/1 [==============================] - 0s 20ms/step\n",
            "1/1 [==============================] - 0s 17ms/step\n",
            "1/1 [==============================] - 0s 18ms/step\n",
            "1/1 [==============================] - 0s 17ms/step\n",
            "1/1 [==============================] - 0s 19ms/step\n",
            "1/1 [==============================] - 0s 21ms/step\n",
            "1/1 [==============================] - 0s 18ms/step\n",
            "1/1 [==============================] - 0s 17ms/step\n",
            "1/1 [==============================] - 0s 21ms/step\n",
            "1/1 [==============================] - 0s 19ms/step\n",
            "1/1 [==============================] - 0s 17ms/step\n",
            "1/1 [==============================] - 0s 19ms/step\n",
            "1/1 [==============================] - 0s 19ms/step\n",
            "1/1 [==============================] - 0s 20ms/step\n",
            "1/1 [==============================] - 0s 17ms/step\n",
            "1/1 [==============================] - 0s 17ms/step\n",
            "1/1 [==============================] - 0s 18ms/step\n",
            "1/1 [==============================] - 0s 18ms/step\n",
            "1/1 [==============================] - 0s 17ms/step\n",
            "1/1 [==============================] - 0s 21ms/step\n",
            "1/1 [==============================] - 0s 16ms/step\n",
            "1/1 [==============================] - 0s 19ms/step\n",
            "1/1 [==============================] - 0s 17ms/step\n",
            "1/1 [==============================] - 0s 19ms/step\n",
            "1/1 [==============================] - 0s 20ms/step\n",
            "1/1 [==============================] - 0s 17ms/step\n",
            "1/1 [==============================] - 0s 17ms/step\n",
            "1/1 [==============================] - 0s 21ms/step\n",
            "1/1 [==============================] - 0s 18ms/step\n",
            "1/1 [==============================] - 0s 25ms/step\n",
            "1/1 [==============================] - 0s 18ms/step\n",
            "1/1 [==============================] - 0s 18ms/step\n",
            "1/1 [==============================] - 0s 18ms/step\n",
            "1/1 [==============================] - 0s 16ms/step\n",
            "1/1 [==============================] - 0s 17ms/step\n",
            "1/1 [==============================] - 0s 20ms/step\n",
            "1/1 [==============================] - 0s 18ms/step\n",
            "1/1 [==============================] - 0s 17ms/step\n",
            "1/1 [==============================] - 0s 16ms/step\n",
            "1/1 [==============================] - 0s 19ms/step\n",
            "1/1 [==============================] - 0s 18ms/step\n",
            "1/1 [==============================] - 0s 17ms/step\n",
            "1/1 [==============================] - 0s 17ms/step\n",
            "1/1 [==============================] - 0s 19ms/step\n",
            "1/1 [==============================] - 0s 17ms/step\n",
            "1/1 [==============================] - 0s 20ms/step\n",
            "1/1 [==============================] - 0s 17ms/step\n",
            "1/1 [==============================] - 0s 17ms/step\n",
            "1/1 [==============================] - 0s 16ms/step\n",
            "1/1 [==============================] - 0s 22ms/step\n",
            "1/1 [==============================] - 0s 16ms/step\n",
            "1/1 [==============================] - 0s 17ms/step\n",
            "1/1 [==============================] - 0s 20ms/step\n",
            "1/1 [==============================] - 0s 16ms/step\n",
            "1/1 [==============================] - 0s 20ms/step\n",
            "1/1 [==============================] - 0s 17ms/step\n",
            "1/1 [==============================] - 0s 16ms/step\n",
            "1/1 [==============================] - 0s 16ms/step\n",
            "1/1 [==============================] - 0s 18ms/step\n",
            "1/1 [==============================] - 0s 16ms/step\n",
            "1/1 [==============================] - 0s 17ms/step\n",
            "1/1 [==============================] - 0s 21ms/step\n",
            "1/1 [==============================] - 0s 20ms/step\n",
            "1/1 [==============================] - 0s 16ms/step\n",
            "1/1 [==============================] - 0s 18ms/step\n",
            "1/1 [==============================] - 0s 20ms/step\n",
            "1/1 [==============================] - 0s 18ms/step\n",
            "1/1 [==============================] - 0s 18ms/step\n",
            "1/1 [==============================] - 0s 18ms/step\n",
            "1/1 [==============================] - 0s 17ms/step\n",
            "1/1 [==============================] - 0s 18ms/step\n",
            "1/1 [==============================] - 0s 16ms/step\n",
            "1/1 [==============================] - 0s 16ms/step\n",
            "1/1 [==============================] - 0s 18ms/step\n",
            "1/1 [==============================] - 0s 17ms/step\n",
            "1/1 [==============================] - 0s 19ms/step\n",
            "1/1 [==============================] - 0s 16ms/step\n",
            "1/1 [==============================] - 0s 16ms/step\n",
            "1/1 [==============================] - 0s 18ms/step\n",
            "1/1 [==============================] - 0s 25ms/step\n",
            "1/1 [==============================] - 0s 18ms/step\n",
            "1/1 [==============================] - 0s 19ms/step\n",
            "1/1 [==============================] - 0s 16ms/step\n",
            "1/1 [==============================] - 0s 18ms/step\n",
            "1/1 [==============================] - 0s 18ms/step\n",
            "1/1 [==============================] - 0s 16ms/step\n",
            "1/1 [==============================] - 0s 18ms/step\n",
            "1/1 [==============================] - 0s 19ms/step\n",
            "1/1 [==============================] - 0s 18ms/step\n",
            "1/1 [==============================] - 0s 19ms/step\n",
            "1/1 [==============================] - 0s 17ms/step\n",
            "1/1 [==============================] - 0s 18ms/step\n",
            "1/1 [==============================] - 0s 18ms/step\n",
            "1/1 [==============================] - 0s 19ms/step\n",
            "1/1 [==============================] - 0s 17ms/step\n",
            "1/1 [==============================] - 0s 19ms/step\n",
            "1/1 [==============================] - 0s 18ms/step\n",
            "1/1 [==============================] - 0s 17ms/step\n",
            "1/1 [==============================] - 0s 16ms/step\n",
            "1/1 [==============================] - 0s 16ms/step\n",
            "1/1 [==============================] - 0s 18ms/step\n",
            "1/1 [==============================] - 0s 16ms/step\n",
            "1/1 [==============================] - 0s 23ms/step\n",
            "1/1 [==============================] - 0s 23ms/step\n",
            "1/1 [==============================] - 0s 16ms/step\n",
            "1/1 [==============================] - 0s 17ms/step\n",
            "1/1 [==============================] - 0s 19ms/step\n",
            "1/1 [==============================] - 0s 16ms/step\n",
            "1/1 [==============================] - 0s 17ms/step\n",
            "1/1 [==============================] - 0s 17ms/step\n",
            "1/1 [==============================] - 0s 16ms/step\n",
            "1/1 [==============================] - 0s 19ms/step\n",
            "<START> right so you have since the without the work in horror films from our where this is a night \n"
          ]
        }
      ]
    },
    {
      "cell_type": "code",
      "source": [],
      "metadata": {
        "id": "_G6G06gFxCru"
      },
      "execution_count": null,
      "outputs": []
    }
  ]
}