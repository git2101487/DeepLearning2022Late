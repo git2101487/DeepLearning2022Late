{
  "nbformat": 4,
  "nbformat_minor": 0,
  "metadata": {
    "colab": {
      "provenance": [],
      "authorship_tag": "ABX9TyMHtCvhYMw5DZdkYnloTz4o",
      "include_colab_link": true
    },
    "kernelspec": {
      "name": "python3",
      "display_name": "Python 3"
    },
    "language_info": {
      "name": "python"
    }
  },
  "cells": [
    {
      "cell_type": "markdown",
      "metadata": {
        "id": "view-in-github",
        "colab_type": "text"
      },
      "source": [
        "<a href=\"https://colab.research.google.com/github/git2101487/DeepLearning2022Late/blob/main/NumPyReplay2022.ipynb\" target=\"_parent\"><img src=\"https://colab.research.google.com/assets/colab-badge.svg\" alt=\"Open In Colab\"/></a>"
      ]
    },
    {
      "cell_type": "markdown",
      "source": [
        "# NumPyを使用する"
      ],
      "metadata": {
        "id": "ZXN-zMZzg1K7"
      }
    },
    {
      "cell_type": "code",
      "execution_count": 1,
      "metadata": {
        "id": "3dgdaPg8gm-c"
      },
      "outputs": [],
      "source": [
        "import numpy as np"
      ]
    },
    {
      "cell_type": "markdown",
      "source": [
        "# 配列(アレイ)を作る"
      ],
      "metadata": {
        "id": "VIy6d2vKhJN5"
      }
    },
    {
      "cell_type": "code",
      "source": [
        "x = np.array([1.0, 2.0, 3.0, 4.0, 5.0])\n",
        "print(x)\n",
        "\n",
        "x = np.array([1, 2, 3])\n",
        "print(x)\n",
        "print(type(x))\n",
        "\n",
        "my_list1 = [1, 2, 3, 4, 5]\n",
        "my_list1 = np.array(my_list1) # numpyのarrayを作る\n",
        "\n",
        "my_list2 = [10, 20, 30, 40, 50]\n",
        "my_lists = [my_list1, my_list2] # リストのリストを作る。\n",
        "print(my_lists)\n",
        "\n",
        "# my_listsを使ってNumPyのアレイを使る。(多次元配列を作る)\n",
        "my_array2 = np.array(my_lists)\n",
        "\n",
        "print(my_array2)"
      ],
      "metadata": {
        "colab": {
          "base_uri": "https://localhost:8080/"
        },
        "id": "lw4r2D3phFHJ",
        "outputId": "1b15bd3b-b8b2-4243-cd73-7b9a462fadb6"
      },
      "execution_count": 5,
      "outputs": [
        {
          "output_type": "stream",
          "name": "stdout",
          "text": [
            "[1. 2. 3. 4. 5.]\n",
            "[1 2 3]\n",
            "<class 'numpy.ndarray'>\n",
            "[array([1, 2, 3, 4, 5]), [10, 20, 30, 40, 50]]\n",
            "[[ 1  2  3  4  5]\n",
            " [10 20 30 40 50]]\n"
          ]
        }
      ]
    },
    {
      "cell_type": "markdown",
      "source": [
        "# NumPy配列の形状を調べる"
      ],
      "metadata": {
        "id": "6R86jmo_k4IS"
      }
    },
    {
      "cell_type": "code",
      "source": [
        "a = np.array([1, 2, 3, 4])\n",
        "print(a.shape)\n",
        "\n",
        "b = np.array([[1, 2],[3, 4]])\n",
        "b.shape"
      ],
      "metadata": {
        "colab": {
          "base_uri": "https://localhost:8080/"
        },
        "id": "ct3WbLKPk1tx",
        "outputId": "32cb4967-85f0-4c44-a1c2-ec345b6be8f0"
      },
      "execution_count": 4,
      "outputs": [
        {
          "output_type": "stream",
          "name": "stdout",
          "text": [
            "(4,)\n"
          ]
        },
        {
          "output_type": "execute_result",
          "data": {
            "text/plain": [
              "(2, 2)"
            ]
          },
          "metadata": {},
          "execution_count": 4
        }
      ]
    },
    {
      "cell_type": "markdown",
      "source": [
        "# 配列の生成 arange()"
      ],
      "metadata": {
        "id": "m3NRyMv9ludo"
      }
    },
    {
      "cell_type": "code",
      "source": [
        "# 0から9までの数字(配列)を生成\n",
        "x = np.arange(10)\n",
        "print(x)\n",
        "\n",
        "# reshape()は配列を形状に変換します 3×3の多次元配列\n",
        "x = np.arange(1, 10).reshape(3, 3)\n",
        "y = np.arange(1, 10).reshape(3, 3)\n",
        "\n",
        "print(x)\n",
        "print(y)\n",
        "\n",
        "print(x + y)\n",
        "print(x - y)\n",
        "print(x * y)"
      ],
      "metadata": {
        "colab": {
          "base_uri": "https://localhost:8080/"
        },
        "id": "YoWdxPPQlUrm",
        "outputId": "f2900265-cc16-48ab-ad36-baf698401da7"
      },
      "execution_count": 6,
      "outputs": [
        {
          "output_type": "stream",
          "name": "stdout",
          "text": [
            "[0 1 2 3 4 5 6 7 8 9]\n",
            "[[1 2 3]\n",
            " [4 5 6]\n",
            " [7 8 9]]\n",
            "[[1 2 3]\n",
            " [4 5 6]\n",
            " [7 8 9]]\n",
            "[[ 2  4  6]\n",
            " [ 8 10 12]\n",
            " [14 16 18]]\n",
            "[[0 0 0]\n",
            " [0 0 0]\n",
            " [0 0 0]]\n",
            "[[ 1  4  9]\n",
            " [16 25 36]\n",
            " [49 64 81]]\n"
          ]
        }
      ]
    },
    {
      "cell_type": "markdown",
      "source": [
        "# 配列操作"
      ],
      "metadata": {
        "id": "iubaVkFnmpSk"
      }
    },
    {
      "cell_type": "code",
      "source": [
        "sample_array = np.arange(10)\n",
        "print(sample_array)\n",
        "\n",
        "# reshapeを使って配列の形状を指定\n",
        "sample_array2 = sample_array.reshape(2, 5)\n",
        "print(sample_array2)\n",
        "\n",
        "# concatenateを使って、データの結合する(axisで行方向か、縦方向を指定可能)\n",
        "sample_array3 = np.array([[1, 2, 3], [4, 5, 6]])\n",
        "sample_array4 = np.array([[7, 8, 9], [10, 11, 12]])\n",
        "\n",
        "# 行方向に結合\n",
        "print(np.concatenate([sample_array3, sample_array4], axis=1))\n",
        "\n",
        "# hstackでも行方向の結合が可能\n",
        "print(np.hstack((sample_array3, sample_array4)))\n",
        "\n",
        "# axis=0で列方向 axis=1で行方向\n",
        "print(np.concatenate([sample_array3, sample_array4], axis=0))\n",
        "\n",
        "# vstackで列方向の結合が可能\n",
        "print(np.vstack((sample_array3, sample_array4)))"
      ],
      "metadata": {
        "colab": {
          "base_uri": "https://localhost:8080/"
        },
        "id": "VsX0Oy6tmngU",
        "outputId": "ba3ab82c-28ef-4818-b728-bbae41810a1a"
      },
      "execution_count": 7,
      "outputs": [
        {
          "output_type": "stream",
          "name": "stdout",
          "text": [
            "[0 1 2 3 4 5 6 7 8 9]\n",
            "[[0 1 2 3 4]\n",
            " [5 6 7 8 9]]\n",
            "[[ 1  2  3  7  8  9]\n",
            " [ 4  5  6 10 11 12]]\n",
            "[[ 1  2  3  7  8  9]\n",
            " [ 4  5  6 10 11 12]]\n",
            "[[ 1  2  3]\n",
            " [ 4  5  6]\n",
            " [ 7  8  9]\n",
            " [10 11 12]]\n",
            "[[ 1  2  3]\n",
            " [ 4  5  6]\n",
            " [ 7  8  9]\n",
            " [10 11 12]]\n"
          ]
        }
      ]
    },
    {
      "cell_type": "markdown",
      "source": [
        "# ブロードキャスト\n",
        "### ブロードキャストは、配列の大きさが異なっていれば、自動的に要素をコピーし大きさを揃えるNumPyの機能です。"
      ],
      "metadata": {
        "id": "pRDLnewZoxwU"
      }
    },
    {
      "cell_type": "code",
      "source": [
        "sample_array = np.arange(10)\n",
        "print(sample_array)\n",
        "\n",
        "# 上記の配列に「5」を足す計算\n",
        "print(sample_array + 5)"
      ],
      "metadata": {
        "colab": {
          "base_uri": "https://localhost:8080/"
        },
        "id": "KknqL_yaosoT",
        "outputId": "e10e8d8e-b12b-4bab-abf1-089a964e86fa"
      },
      "execution_count": 8,
      "outputs": [
        {
          "output_type": "stream",
          "name": "stdout",
          "text": [
            "[0 1 2 3 4 5 6 7 8 9]\n",
            "[ 5  6  7  8  9 10 11 12 13 14]\n"
          ]
        }
      ]
    },
    {
      "cell_type": "markdown",
      "source": [
        "# 多次元配列の計算"
      ],
      "metadata": {
        "id": "IqjM8MAZpndJ"
      }
    },
    {
      "cell_type": "code",
      "source": [
        "n1 = np.array([1, 2, 3, 4, 5])\n",
        "print(n1)\n",
        "\n",
        "# 配列の次元数は np.ndim()関数で取得可能\n",
        "print(np.ndim(n1))\n",
        "\n",
        "# 配列の形状取得にはshapeを使う。タプルでかえってくる\n",
        "print(n1.shape)\n",
        "\n",
        "# 行(row) 配列の横方向 列(column) 配列の縦方向\n",
        "\n",
        "n2 = np.array([[1, 2], [3, 4], [5 ,6]])\n",
        "print(n2)\n",
        "\n",
        "print(n2.ndim)"
      ],
      "metadata": {
        "colab": {
          "base_uri": "https://localhost:8080/"
        },
        "id": "X4VODrYcpjqa",
        "outputId": "083994f6-1129-40e9-bb12-1c00f0c94ef9"
      },
      "execution_count": 9,
      "outputs": [
        {
          "output_type": "stream",
          "name": "stdout",
          "text": [
            "[1 2 3 4 5]\n",
            "1\n",
            "(5,)\n",
            "[[1 2]\n",
            " [3 4]\n",
            " [5 6]]\n",
            "2\n"
          ]
        }
      ]
    },
    {
      "cell_type": "markdown",
      "source": [
        "# 行列とは\n",
        "### 行列は、数や記号や式などを行と列に沿って配列したものです。\n",
        "### 横のことを行／縦のことを列"
      ],
      "metadata": {
        "id": "ayJKf75Aqz_N"
      }
    },
    {
      "cell_type": "code",
      "source": [
        "my_li1 = [-1, 4]\n",
        "\n",
        "my_li2 = [3, 2]\n",
        "\n",
        "my_li3 = [2, 5]\n",
        "\n",
        "my_li4 = [0, 1]\n",
        "\n",
        "my_lists = [my_li1, my_li2, my_li3, my_li4]\n",
        "\n",
        "my_array3 = np.array(my_lists)\n",
        "\n",
        "print(my_array3)"
      ],
      "metadata": {
        "colab": {
          "base_uri": "https://localhost:8080/"
        },
        "id": "jtDZWXnfqvea",
        "outputId": "7f11bd66-6bbd-4fb7-fc0d-eed3b70ecc1c"
      },
      "execution_count": 10,
      "outputs": [
        {
          "output_type": "stream",
          "name": "stdout",
          "text": [
            "[[-1  4]\n",
            " [ 3  2]\n",
            " [ 2  5]\n",
            " [ 0  1]]\n"
          ]
        }
      ]
    },
    {
      "cell_type": "code",
      "source": [],
      "metadata": {
        "id": "WpD3rzZwrwn2"
      },
      "execution_count": null,
      "outputs": []
    }
  ]
}