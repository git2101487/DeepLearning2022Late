{
  "nbformat": 4,
  "nbformat_minor": 0,
  "metadata": {
    "colab": {
      "provenance": [],
      "authorship_tag": "ABX9TyP8qCqBgPx/sHjg3ikGydrQ",
      "include_colab_link": true
    },
    "kernelspec": {
      "name": "python3",
      "display_name": "Python 3"
    },
    "language_info": {
      "name": "python"
    },
    "accelerator": "GPU",
    "gpuClass": "standard"
  },
  "cells": [
    {
      "cell_type": "markdown",
      "metadata": {
        "id": "view-in-github",
        "colab_type": "text"
      },
      "source": [
        "<a href=\"https://colab.research.google.com/github/git2101487/DeepLearning2022Late/blob/main/%E5%8F%8E%E9%9B%86%E3%81%97%E3%81%9F%E7%94%BB%E5%83%8F%E3%81%A7%E5%AD%A6%E7%BF%92%E3%81%A8%E5%88%86%E9%A1%9E(GPU).ipynb\" target=\"_parent\"><img src=\"https://colab.research.google.com/assets/colab-badge.svg\" alt=\"Open In Colab\"/></a>"
      ]
    },
    {
      "cell_type": "markdown",
      "source": [
        "# 収集した画像をColabにUPして学習させ、それを基に分類させる"
      ],
      "metadata": {
        "id": "vdopsNfRV4Am"
      }
    },
    {
      "cell_type": "markdown",
      "source": [
        "## ファイルのファルダを準備する"
      ],
      "metadata": {
        "id": "GcdtjcrfWM4Q"
      }
    },
    {
      "cell_type": "code",
      "execution_count": 1,
      "metadata": {
        "id": "mRqqHg2kVD_f"
      },
      "outputs": [],
      "source": [
        "import os\n",
        "os.makedirs('sample', exist_ok=True) # 分類対象の画像のフォルダを作成\n",
        "os.makedirs('output/dog/sample', exist_ok=True) # 犬と判定された時の置き場所\n",
        "os.makedirs('output/cat/sample', exist_ok=True) # 猫と判定された時の置き場所\n",
        "os.makedirs('img/deep_learning/dog', exist_ok=True) # 犬の学習用の収集画像\n",
        "os.makedirs('img/deep_learning/cat', exist_ok=True) # 猫の学習用の収集画像\n"
      ]
    },
    {
      "cell_type": "markdown",
      "source": [
        "## 必要なライブラリをimport"
      ],
      "metadata": {
        "id": "-6rCoHVUYQbf"
      }
    },
    {
      "cell_type": "code",
      "source": [
        "import cv2\n",
        "import numpy as np\n",
        "import glob as glob\n",
        "from sklearn.model_selection import train_test_split\n",
        "from keras.utils import np_utils"
      ],
      "metadata": {
        "id": "7mNCSXlYXk4r"
      },
      "execution_count": 2,
      "outputs": []
    },
    {
      "cell_type": "markdown",
      "source": [
        "## 分類(クラス)の名前をフォルダ名(dog,cat)から引用する"
      ],
      "metadata": {
        "id": "NAm7CWfYZjuL"
      }
    },
    {
      "cell_type": "code",
      "source": [
        "path = \"img/deep_learning\" # dogとcatフォルダがある場所\n",
        "folders = os.listdir(path)\n",
        "# 2つのパスからフォルダ名を抜き出す\n",
        "classes = [f for f in folders if os.path.isdir(os.path.join(path, f))]\n",
        "print(classes)\n",
        "n_classes = len(classes)\n",
        "print(n_classes)"
      ],
      "metadata": {
        "colab": {
          "base_uri": "https://localhost:8080/"
        },
        "id": "f8yfzwF4ZKpm",
        "outputId": "6f84fe6c-3b9b-4b60-a09e-ca0f78dc1db3"
      },
      "execution_count": 3,
      "outputs": [
        {
          "output_type": "stream",
          "name": "stdout",
          "text": [
            "['dog', 'cat']\n",
            "2\n"
          ]
        }
      ]
    },
    {
      "cell_type": "markdown",
      "source": [
        "## 画像を読み込みリサイズ、整形する"
      ],
      "metadata": {
        "id": "3gL6utys9djR"
      }
    },
    {
      "cell_type": "code",
      "source": [
        "# 画像とラベルのための配列\n",
        "X = [] # 画像(学習データ用の配列)\n",
        "Y = [] # ラベル(正解用の配列)\n",
        "\n",
        "# 画像を読み込みつつリサイズする\n",
        "for label, class_name in enumerate(classes):\n",
        "  files = glob.glob(path + \"/\" + class_name + \"/*jpg\")\n",
        "  for file in files:\n",
        "    img = cv2.imread(file)\n",
        "    img = cv2.resize(img, dsize=(224, 224))\n",
        "    X.append(img)\n",
        "    Y.append(label)\n",
        "    # 内部ループ終わり\n",
        "# 外部ループ終わり"
      ],
      "metadata": {
        "id": "ukDgbtKhbAK9"
      },
      "execution_count": 4,
      "outputs": []
    },
    {
      "cell_type": "markdown",
      "source": [
        "## 0～255のビットデータ値を、学習のために0～1に変換(正規化)学習精度を上げる"
      ],
      "metadata": {
        "id": "CBmvW2EsEuir"
      }
    },
    {
      "cell_type": "code",
      "source": [
        "X = np.array(X) # 配列XをNumpy配列に変換\n",
        "X = X.astype('float32') # 小数型に変換\n",
        "X /= 255.0\n",
        "# ラベルもnumpyの配列に変換\n",
        "Y = np.array(Y)\n",
        "Y = np_utils.to_categorical(Y, n_classes)"
      ],
      "metadata": {
        "id": "A3_NlgG7bjnI"
      },
      "execution_count": 5,
      "outputs": []
    },
    {
      "cell_type": "markdown",
      "source": [
        "### 整形したデータを学習用とテスト検証用に振り分ける"
      ],
      "metadata": {
        "id": "E99BG6h7GOWP"
      }
    },
    {
      "cell_type": "code",
      "source": [
        "# 学習用データ8割、テスト検証用が2割にわける\n",
        "X_train, X_test, Y_train, Y_test = train_test_split(X, Y, test_size=0.2)\n",
        "# 学習用データ8割(画像問題データ)\n",
        "print(X_train.shape)\n",
        "# テストデータ2割(画像問題データ)\n",
        "print(X_test.shape)\n",
        "# 学習用データ8割(正解ラベル)\n",
        "print(Y_train.shape)\n",
        "# テストデータ2割(正解ラベル)\n",
        "print(Y_test.shape)"
      ],
      "metadata": {
        "colab": {
          "base_uri": "https://localhost:8080/"
        },
        "id": "8XHCtXdZGNLm",
        "outputId": "f2e5ea51-c7a1-496f-c6bb-62ce8b8b587a"
      },
      "execution_count": 6,
      "outputs": [
        {
          "output_type": "stream",
          "name": "stdout",
          "text": [
            "(120, 224, 224, 3)\n",
            "(31, 224, 224, 3)\n",
            "(120, 2)\n",
            "(31, 2)\n"
          ]
        }
      ]
    },
    {
      "cell_type": "markdown",
      "source": [
        "## 準備したデータを学習させていく"
      ],
      "metadata": {
        "id": "qi2FNPYgLNhM"
      }
    },
    {
      "cell_type": "markdown",
      "source": [
        "### 学習に必要なライブラリをimport"
      ],
      "metadata": {
        "id": "fXLAEi9rLSdY"
      }
    },
    {
      "cell_type": "code",
      "source": [
        "from keras.applications.vgg16 import VGG16\n",
        "from keras.models import Sequential\n",
        "from keras.models import Model\n",
        "from keras.layers import Input, Activation, Dense, Flatten, Dropout\n",
        "from keras.optimizers import Adam"
      ],
      "metadata": {
        "id": "bc8nxvDwIO3S"
      },
      "execution_count": 7,
      "outputs": []
    },
    {
      "cell_type": "markdown",
      "source": [
        "# モデルのVGG16をアレンジしていく"
      ],
      "metadata": {
        "id": "rH07OEXkTDM-"
      }
    },
    {
      "cell_type": "code",
      "source": [
        "# VGG16 入力層を用意する(定義する)\n",
        "input_tensor = Input(shape=(224,224,3))\n",
        "# VGG16のインスタンスを作る(最後のsoftmaxの1000層を無効にして省く)\n",
        "base_model = VGG16(weights='imagenet', input_tensor=input_tensor, include_top=False)"
      ],
      "metadata": {
        "id": "G_ViilmPMkRG",
        "colab": {
          "base_uri": "https://localhost:8080/"
        },
        "outputId": "0ceac781-acc8-4663-af08-2edec9f590dd"
      },
      "execution_count": 8,
      "outputs": [
        {
          "output_type": "stream",
          "name": "stdout",
          "text": [
            "Downloading data from https://storage.googleapis.com/tensorflow/keras-applications/vgg16/vgg16_weights_tf_dim_ordering_tf_kernels_notop.h5\n",
            "58889256/58889256 [==============================] - 2s 0us/step\n"
          ]
        }
      ]
    },
    {
      "cell_type": "markdown",
      "source": [
        "### 1000分類のsoftmaxを外した代わりに、2つに分類するsoftmax層を追加する"
      ],
      "metadata": {
        "id": "v1Z2mXFIWTDc"
      }
    },
    {
      "cell_type": "code",
      "source": [
        "# 追加する層の作成\n",
        "top_model = Sequential() # ラッピングする層\n",
        "top_model.add(Flatten(input_shape=base_model.output_shape[1:]))\n",
        "top_model.add(Dense(n_classes, activation='softmax'))"
      ],
      "metadata": {
        "id": "TkQ8VE11WPkY"
      },
      "execution_count": 9,
      "outputs": []
    },
    {
      "cell_type": "markdown",
      "source": [
        "### 最後のSOFTMAXを外したモデル(basemodel)と追加用の2つに分類するSOFTMAX層のモデル(top_model)をつなげる"
      ],
      "metadata": {
        "id": "KxwVc7fhaIoY"
      }
    },
    {
      "cell_type": "code",
      "source": [
        "model = Model(inputs=base_model.input, outputs=top_model(base_model.output))"
      ],
      "metadata": {
        "id": "339uRJ8rX5Y4"
      },
      "execution_count": 10,
      "outputs": []
    },
    {
      "cell_type": "markdown",
      "source": [
        "# 時間短縮のために、15層までを外す"
      ],
      "metadata": {
        "id": "XjS7eGTjbNuk"
      }
    },
    {
      "cell_type": "code",
      "source": [
        "# ループしながら15層までを無効にする\n",
        "for layer in model.layers[:15]:\n",
        "  layer.trainable = False # 15層までは学習しない\n",
        "# ループ終わり\n",
        "print('# layers=', len(model.layers)) # モデルの層の数を表示"
      ],
      "metadata": {
        "colab": {
          "base_uri": "https://localhost:8080/"
        },
        "id": "KSIkPMjca4ZT",
        "outputId": "7fc5a079-b18f-4b74-e268-0f7f622595d0"
      },
      "execution_count": 11,
      "outputs": [
        {
          "output_type": "stream",
          "name": "stdout",
          "text": [
            "# layers= 20\n"
          ]
        }
      ]
    },
    {
      "cell_type": "markdown",
      "source": [
        "## 学習モデルをコンパイルする"
      ],
      "metadata": {
        "id": "Bdd-XWfYcuh2"
      }
    },
    {
      "cell_type": "code",
      "source": [
        "# 損失はクロスエントロピー法で算出、最適化はADAM、指標は精度でみる\n",
        "model.compile(loss='categorical_crossentropy',\n",
        "              optimizer='adam', metrics=['accuracy'])"
      ],
      "metadata": {
        "id": "ORmxqZzHcsbq"
      },
      "execution_count": 12,
      "outputs": []
    },
    {
      "cell_type": "markdown",
      "source": [
        "## コンパイルしたモデルを表示"
      ],
      "metadata": {
        "id": "XpvuABQRefac"
      }
    },
    {
      "cell_type": "code",
      "source": [
        "model.summary()"
      ],
      "metadata": {
        "colab": {
          "base_uri": "https://localhost:8080/"
        },
        "id": "3QqC8FvSeeai",
        "outputId": "9d84a296-5218-4b04-db4f-45c1ff4f8097"
      },
      "execution_count": 13,
      "outputs": [
        {
          "output_type": "stream",
          "name": "stdout",
          "text": [
            "Model: \"model\"\n",
            "_________________________________________________________________\n",
            " Layer (type)                Output Shape              Param #   \n",
            "=================================================================\n",
            " input_1 (InputLayer)        [(None, 224, 224, 3)]     0         \n",
            "                                                                 \n",
            " block1_conv1 (Conv2D)       (None, 224, 224, 64)      1792      \n",
            "                                                                 \n",
            " block1_conv2 (Conv2D)       (None, 224, 224, 64)      36928     \n",
            "                                                                 \n",
            " block1_pool (MaxPooling2D)  (None, 112, 112, 64)      0         \n",
            "                                                                 \n",
            " block2_conv1 (Conv2D)       (None, 112, 112, 128)     73856     \n",
            "                                                                 \n",
            " block2_conv2 (Conv2D)       (None, 112, 112, 128)     147584    \n",
            "                                                                 \n",
            " block2_pool (MaxPooling2D)  (None, 56, 56, 128)       0         \n",
            "                                                                 \n",
            " block3_conv1 (Conv2D)       (None, 56, 56, 256)       295168    \n",
            "                                                                 \n",
            " block3_conv2 (Conv2D)       (None, 56, 56, 256)       590080    \n",
            "                                                                 \n",
            " block3_conv3 (Conv2D)       (None, 56, 56, 256)       590080    \n",
            "                                                                 \n",
            " block3_pool (MaxPooling2D)  (None, 28, 28, 256)       0         \n",
            "                                                                 \n",
            " block4_conv1 (Conv2D)       (None, 28, 28, 512)       1180160   \n",
            "                                                                 \n",
            " block4_conv2 (Conv2D)       (None, 28, 28, 512)       2359808   \n",
            "                                                                 \n",
            " block4_conv3 (Conv2D)       (None, 28, 28, 512)       2359808   \n",
            "                                                                 \n",
            " block4_pool (MaxPooling2D)  (None, 14, 14, 512)       0         \n",
            "                                                                 \n",
            " block5_conv1 (Conv2D)       (None, 14, 14, 512)       2359808   \n",
            "                                                                 \n",
            " block5_conv2 (Conv2D)       (None, 14, 14, 512)       2359808   \n",
            "                                                                 \n",
            " block5_conv3 (Conv2D)       (None, 14, 14, 512)       2359808   \n",
            "                                                                 \n",
            " block5_pool (MaxPooling2D)  (None, 7, 7, 512)         0         \n",
            "                                                                 \n",
            " sequential (Sequential)     (None, 2)                 50178     \n",
            "                                                                 \n",
            "=================================================================\n",
            "Total params: 14,764,866\n",
            "Trainable params: 7,129,602\n",
            "Non-trainable params: 7,635,264\n",
            "_________________________________________________________________\n"
          ]
        }
      ]
    },
    {
      "cell_type": "markdown",
      "source": [
        "## コンパイルしたモデルで収集した画像データを学習させる"
      ],
      "metadata": {
        "id": "TsxP6a58faOx"
      }
    },
    {
      "cell_type": "code",
      "source": [
        "model.fit(X_train, Y_train, epochs=20, batch_size=16)"
      ],
      "metadata": {
        "colab": {
          "base_uri": "https://localhost:8080/"
        },
        "id": "S9Sp-O1OemJB",
        "outputId": "32010975-b864-420f-a330-7af085aa0abe"
      },
      "execution_count": 14,
      "outputs": [
        {
          "output_type": "stream",
          "name": "stdout",
          "text": [
            "Epoch 1/20\n",
            "8/8 [==============================] - 12s 227ms/step - loss: 1.7080 - accuracy: 0.4250\n",
            "Epoch 2/20\n",
            "8/8 [==============================] - 1s 85ms/step - loss: 2.9591 - accuracy: 0.5417\n",
            "Epoch 3/20\n",
            "8/8 [==============================] - 1s 84ms/step - loss: 0.6846 - accuracy: 0.5667\n",
            "Epoch 4/20\n",
            "8/8 [==============================] - 1s 84ms/step - loss: 0.7433 - accuracy: 0.6250\n",
            "Epoch 5/20\n",
            "8/8 [==============================] - 1s 84ms/step - loss: 0.6162 - accuracy: 0.6667\n",
            "Epoch 6/20\n",
            "8/8 [==============================] - 1s 84ms/step - loss: 0.5231 - accuracy: 0.7667\n",
            "Epoch 7/20\n",
            "8/8 [==============================] - 1s 85ms/step - loss: 0.4184 - accuracy: 0.8250\n",
            "Epoch 8/20\n",
            "8/8 [==============================] - 1s 85ms/step - loss: 0.3438 - accuracy: 0.9250\n",
            "Epoch 9/20\n",
            "8/8 [==============================] - 1s 84ms/step - loss: 0.1762 - accuracy: 0.9583\n",
            "Epoch 10/20\n",
            "8/8 [==============================] - 1s 85ms/step - loss: 0.1648 - accuracy: 0.9333\n",
            "Epoch 11/20\n",
            "8/8 [==============================] - 1s 86ms/step - loss: 0.1565 - accuracy: 0.9583\n",
            "Epoch 12/20\n",
            "8/8 [==============================] - 1s 84ms/step - loss: 0.1087 - accuracy: 0.9833\n",
            "Epoch 13/20\n",
            "8/8 [==============================] - 1s 86ms/step - loss: 0.0138 - accuracy: 1.0000\n",
            "Epoch 14/20\n",
            "8/8 [==============================] - 1s 85ms/step - loss: 0.0041 - accuracy: 1.0000\n",
            "Epoch 15/20\n",
            "8/8 [==============================] - 1s 85ms/step - loss: 0.0020 - accuracy: 1.0000\n",
            "Epoch 16/20\n",
            "8/8 [==============================] - 1s 84ms/step - loss: 0.0014 - accuracy: 1.0000\n",
            "Epoch 17/20\n",
            "8/8 [==============================] - 1s 86ms/step - loss: 6.7268e-04 - accuracy: 1.0000\n",
            "Epoch 18/20\n",
            "8/8 [==============================] - 1s 85ms/step - loss: 5.0473e-04 - accuracy: 1.0000\n",
            "Epoch 19/20\n",
            "8/8 [==============================] - 1s 85ms/step - loss: 3.9114e-04 - accuracy: 1.0000\n",
            "Epoch 20/20\n",
            "8/8 [==============================] - 1s 85ms/step - loss: 3.4076e-04 - accuracy: 1.0000\n"
          ]
        },
        {
          "output_type": "execute_result",
          "data": {
            "text/plain": [
              "<keras.callbacks.History at 0x7effd00a79a0>"
            ]
          },
          "metadata": {},
          "execution_count": 14
        }
      ]
    },
    {
      "cell_type": "markdown",
      "source": [
        "### 学習の成果を指標(accuracy)で確認"
      ],
      "metadata": {
        "id": "PRnOKVknhnbn"
      }
    },
    {
      "cell_type": "code",
      "source": [
        "score = model.evaluate(X_test,Y_test, batch_size=16)"
      ],
      "metadata": {
        "colab": {
          "base_uri": "https://localhost:8080/"
        },
        "id": "LzIJA4l3gz3M",
        "outputId": "8a8d7e2a-3797-4225-fc3f-7214e52d8952"
      },
      "execution_count": 15,
      "outputs": [
        {
          "output_type": "stream",
          "name": "stdout",
          "text": [
            "2/2 [==============================] - 2s 2s/step - loss: 0.9882 - accuracy: 0.7742\n"
          ]
        }
      ]
    },
    {
      "cell_type": "markdown",
      "source": [
        "### 作成した学習モデルとクラス分類名を保存"
      ],
      "metadata": {
        "id": "BPzpUgb0ijSQ"
      }
    },
    {
      "cell_type": "code",
      "source": [
        "import pickle\n",
        "# vクラス分類の保存\n",
        "pickle.dump(classes, open('classes.sav', 'wb')) # オブジェクトをバイナリファイルで保存\n",
        "# 学習モデルの保存\n",
        "model.save('cnn.h5')"
      ],
      "metadata": {
        "id": "nnQSkGwPh7LV"
      },
      "execution_count": 16,
      "outputs": []
    },
    {
      "cell_type": "markdown",
      "source": [
        "# 保存したクラス分類と学習モデルを読み込んで使う"
      ],
      "metadata": {
        "id": "EALLTllxkRqK"
      }
    },
    {
      "cell_type": "code",
      "source": [
        "# ライブラリのimport\n",
        "from keras.models import load_model\n",
        "import pickle\n",
        "import cv2\n",
        "import glob"
      ],
      "metadata": {
        "id": "eixIgksAjWUZ"
      },
      "execution_count": 17,
      "outputs": []
    },
    {
      "cell_type": "markdown",
      "source": [
        "## ファイルを読み込んでオブジェクトとしてよみがえらせる"
      ],
      "metadata": {
        "id": "FmDNi6w4k6vm"
      }
    },
    {
      "cell_type": "code",
      "source": [
        "model = load_model('cnn.h5')\n",
        "classes = pickle.load(open('classes.sav', 'rb'))"
      ],
      "metadata": {
        "id": "38OkpU6Zk6Ij"
      },
      "execution_count": 19,
      "outputs": []
    },
    {
      "cell_type": "markdown",
      "source": [
        "### sample画像を読み込む"
      ],
      "metadata": {
        "id": "vhgFkm2oTn6r"
      }
    },
    {
      "cell_type": "code",
      "source": [
        "files = glob.glob('sample/*')\n",
        "print(files)"
      ],
      "metadata": {
        "id": "EJReFQTGlRSG",
        "colab": {
          "base_uri": "https://localhost:8080/"
        },
        "outputId": "49c2472a-227e-454c-b5c9-530c016b427e"
      },
      "execution_count": 21,
      "outputs": [
        {
          "output_type": "stream",
          "name": "stdout",
          "text": [
            "['sample/dog_10.jpg', 'sample/dog_62.jpg', 'sample/cat_2.jpg']\n"
          ]
        }
      ]
    },
    {
      "cell_type": "markdown",
      "source": [
        "## ファイルパスから画像を読み込み、学習モデルに判定させ、該当するoutputフォルダにコピーを書き込む"
      ],
      "metadata": {
        "id": "AD-5Cy5dViil"
      }
    },
    {
      "cell_type": "code",
      "source": [
        "for file in files: # ファイルの数だけループ\n",
        "  img = cv2.imread(file) # 画像データを読み込み\n",
        "  # 判定のためにimgを加工したimg2を作る\n",
        "  img2 = cv2.resize(img, dsize=(224,224)) # (224,224)にリサイズ\n",
        "  img2 = img2.astype('float32')\n",
        "  img2 = img2/255.0 # 0.0～255.0だったデータを0.0～1.0に変換\n",
        "  img2 = img2[None, ...] # 1次元配列に変換\n",
        "  # 正規化したデータを判定\n",
        "  result = model.predict(img2)\n",
        "  print(result) # 画面に生で出力\n",
        "  # 確率の高いクラスを取得\n",
        "  pred = result.argmax()\n",
        "  print(pred, str(classes[pred]))\n",
        "  # 判定したクラス分類のフォルダの方に、画像データを書き込む\n",
        "  cv2.imwrite('output/' + str(classes[pred]) + '/' + file, img)\n",
        "# ループ終わり"
      ],
      "metadata": {
        "colab": {
          "base_uri": "https://localhost:8080/"
        },
        "id": "Phk-JWnzVJ1l",
        "outputId": "f4fc7c65-f509-47d2-97c7-41e3277f3418"
      },
      "execution_count": 24,
      "outputs": [
        {
          "output_type": "stream",
          "name": "stdout",
          "text": [
            "1/1 [==============================] - 0s 16ms/step\n",
            "[[9.9995041e-01 4.9608316e-05]]\n",
            "0 dog\n",
            "1/1 [==============================] - 0s 18ms/step\n",
            "[[1.00000e+00 6.62456e-10]]\n",
            "0 dog\n",
            "1/1 [==============================] - 0s 19ms/step\n",
            "[[1.5441785e-04 9.9984550e-01]]\n",
            "1 cat\n"
          ]
        }
      ]
    },
    {
      "cell_type": "code",
      "source": [],
      "metadata": {
        "id": "Yxq-gUz1aELw"
      },
      "execution_count": null,
      "outputs": []
    }
  ]
}