{
  "nbformat": 4,
  "nbformat_minor": 0,
  "metadata": {
    "colab": {
      "provenance": [],
      "authorship_tag": "ABX9TyM63xxLIDTw8+sRBI7bIyED",
      "include_colab_link": true
    },
    "kernelspec": {
      "name": "python3",
      "display_name": "Python 3"
    },
    "language_info": {
      "name": "python"
    }
  },
  "cells": [
    {
      "cell_type": "markdown",
      "metadata": {
        "id": "view-in-github",
        "colab_type": "text"
      },
      "source": [
        "<a href=\"https://colab.research.google.com/github/git2101487/DeepLearning2022Late/blob/main/DogVsCat2022.ipynb\" target=\"_parent\"><img src=\"https://colab.research.google.com/assets/colab-badge.svg\" alt=\"Open In Colab\"/></a>"
      ]
    },
    {
      "cell_type": "markdown",
      "source": [
        "# Keras を使用したディープラーニングをやってみる\n",
        "## 画像認識を行う"
      ],
      "metadata": {
        "id": "Tb5cQqYQ5QM1"
      }
    },
    {
      "cell_type": "markdown",
      "source": [
        "### ライブラリの読み込み"
      ],
      "metadata": {
        "id": "hawYBwD55fMY"
      }
    },
    {
      "cell_type": "code",
      "execution_count": 11,
      "metadata": {
        "id": "vuAe0vdw3RCC"
      },
      "outputs": [],
      "source": [
        "%matplotlib inline\n",
        "from keras.applications.vgg16 import VGG16,preprocess_input, decode_predictions\n",
        "from keras.preprocessing import image\n",
        "from PIL import Image\n",
        "import matplotlib.pyplot as plt\n",
        "import numpy as np"
      ]
    },
    {
      "cell_type": "markdown",
      "source": [
        "### 学習済みモデルの読み込み"
      ],
      "metadata": {
        "id": "qVCFyXQa71TH"
      }
    },
    {
      "cell_type": "code",
      "source": [
        "model = VGG16(weights='imagenet')"
      ],
      "metadata": {
        "id": "HcM1Dkmd6D87"
      },
      "execution_count": 12,
      "outputs": []
    },
    {
      "cell_type": "markdown",
      "source": [
        "### 画像判定のための関数\n"
      ],
      "metadata": {
        "id": "G6ZjrftI8mH2"
      }
    },
    {
      "cell_type": "code",
      "source": [
        "def predict(filename, featuresize):\n",
        "  img = image.load_img(filename, target_size=(224, 224))\n",
        "  x = image.img_to_array(img)\n",
        "  x = np.expand_dims(x, axis=0)\n",
        "  # 学習モデルで判定を実行\n",
        "  preds = model.predict(preprocess_input(x))\n",
        "  results = decode_predictions(preds, top=featuresize)[0]\n",
        "  return results\n",
        "# 関数終わり"
      ],
      "metadata": {
        "id": "mHsQBdFJ8aZB"
      },
      "execution_count": 13,
      "outputs": []
    },
    {
      "cell_type": "markdown",
      "source": [
        "### 画像表示のための関数"
      ],
      "metadata": {
        "id": "OhjZrhXz_nPK"
      }
    },
    {
      "cell_type": "code",
      "source": [
        "def showimg(filename, title, i):\n",
        "  im = Image.open(filename) # 画像ファイルを開く\n",
        "  im_list = np.array(im) # 画像ビットデータをndarrayにする\n",
        "  plt.subplot(2, 5, i)\n",
        "  plt.title(title)\n",
        "  plt.axis(\"off\")\n",
        "  plt.imshow(im_list)\n",
        "# 関数終わり"
      ],
      "metadata": {
        "id": "UO1wUQsK_B27"
      },
      "execution_count": 14,
      "outputs": []
    },
    {
      "cell_type": "markdown",
      "source": [
        "### Kaggleにある画像データを利用する\n",
        "https://www.kaggle.com/\n",
        "<br>犬猫判定用の画像データ<br>\n",
        "https://www.kaggle.com/c/dogs-vs-cats/data"
      ],
      "metadata": {
        "id": "_Eax3dFnBl5X"
      }
    },
    {
      "cell_type": "markdown",
      "source": [
        "## 指定されたURLからファイルをダウンロードする"
      ],
      "metadata": {
        "id": "q0zE5oVt3m8L"
      }
    },
    {
      "cell_type": "code",
      "source": [
        "# wgetでwebからファイルをダウンロードする\n",
        "# GoogleColabでコマンドを実行する時は、先頭に!マークを必ずつけること\n",
        "# 小さいファイルをGoogleドライブからDLする時は、URLをつけるだけでOK\n",
        "\n",
        "!wget --load-cookies /tmp/cookies.txt \"https://drive.google.com/uc?export=download&confirm=$(wget --quiet --save-cookies /tmp/cookies.txt --keep-session-cookies --no-check-certificate 'https://drive.google.com/uc?export=download&id=1WQ9KZ-St4BqUWkqYJZYBIXQ8tT92DW_2' -O- | sed -rn 's/.*confirm=([0-9A-Za-z_]+).*/\\1\\n/p')&id=1WQ9KZ-St4BqUWkqYJZYBIXQ8tT92DW_2\" -O train.zip && rm -rf /tmp/cookies.txt\n",
        "!wget --load-cookies /tmp/cookies.txt \"https://drive.google.com/uc?export=download&confirm=$(wget --quiet --save-cookies /tmp/cookies.txt --keep-session-cookies --no-check-certificate 'https://drive.google.com/uc?export=download&id=1WQ9KZ-St4BqUWkqYJZYBIXQ8tT92DW_2' -O- | sed -rn 's/.*confirm=([0-9A-Za-z_]+).*/\\1\\n/p')&id=1WQ9KZ-St4BqUWkqYJZYBIXQ8tT92DW_2\" -O test.zip && rm -rf /tmp/cookies.txt"
      ],
      "metadata": {
        "id": "lMJSrnfjA1na",
        "colab": {
          "base_uri": "https://localhost:8080/"
        },
        "outputId": "97331ed8-2a43-4321-c90d-77a8ed19ec48"
      },
      "execution_count": 15,
      "outputs": [
        {
          "output_type": "stream",
          "name": "stdout",
          "text": [
            "--2022-10-04 01:06:10--  https://drive.google.com/uc?export=download&confirm=t&id=1WQ9KZ-St4BqUWkqYJZYBIXQ8tT92DW_2\n",
            "Resolving drive.google.com (drive.google.com)... 172.217.204.101, 172.217.204.139, 172.217.204.113, ...\n",
            "Connecting to drive.google.com (drive.google.com)|172.217.204.101|:443... connected.\n",
            "HTTP request sent, awaiting response... 303 See Other\n",
            "Location: https://doc-0k-1s-docs.googleusercontent.com/docs/securesc/ha0ro937gcuc7l7deffksulhg5h7mbp1/1drd9edcuubig6t4lc6oag8m49d5583g/1664845500000/14334177730080324288/*/1WQ9KZ-St4BqUWkqYJZYBIXQ8tT92DW_2?e=download&uuid=8415bf9e-d53d-425a-a278-3e171c86a3c4 [following]\n",
            "Warning: wildcards not supported in HTTP.\n",
            "--2022-10-04 01:06:10--  https://doc-0k-1s-docs.googleusercontent.com/docs/securesc/ha0ro937gcuc7l7deffksulhg5h7mbp1/1drd9edcuubig6t4lc6oag8m49d5583g/1664845500000/14334177730080324288/*/1WQ9KZ-St4BqUWkqYJZYBIXQ8tT92DW_2?e=download&uuid=8415bf9e-d53d-425a-a278-3e171c86a3c4\n",
            "Resolving doc-0k-1s-docs.googleusercontent.com (doc-0k-1s-docs.googleusercontent.com)... 173.194.216.132, 2607:f8b0:400c:c12::84\n",
            "Connecting to doc-0k-1s-docs.googleusercontent.com (doc-0k-1s-docs.googleusercontent.com)|173.194.216.132|:443... connected.\n",
            "HTTP request sent, awaiting response... 200 OK\n",
            "Length: 569872234 (543M) [application/x-zip-compressed]\n",
            "Saving to: ‘train.zip’\n",
            "\n",
            "train.zip           100%[===================>] 543.47M  47.0MB/s    in 9.7s    \n",
            "\n",
            "2022-10-04 01:06:20 (56.1 MB/s) - ‘train.zip’ saved [569872234/569872234]\n",
            "\n",
            "--2022-10-04 01:06:20--  https://drive.google.com/uc?export=download&confirm=t&id=1WQ9KZ-St4BqUWkqYJZYBIXQ8tT92DW_2\n",
            "Resolving drive.google.com (drive.google.com)... 172.217.204.101, 172.217.204.139, 172.217.204.113, ...\n",
            "Connecting to drive.google.com (drive.google.com)|172.217.204.101|:443... connected.\n",
            "HTTP request sent, awaiting response... 303 See Other\n",
            "Location: https://doc-0k-1s-docs.googleusercontent.com/docs/securesc/ha0ro937gcuc7l7deffksulhg5h7mbp1/cpdvjmva6q04u1uhns725vor2olfh5id/1664845575000/14334177730080324288/*/1WQ9KZ-St4BqUWkqYJZYBIXQ8tT92DW_2?e=download&uuid=09127453-0610-42d9-a5d6-ae3121537f85 [following]\n",
            "Warning: wildcards not supported in HTTP.\n",
            "--2022-10-04 01:06:20--  https://doc-0k-1s-docs.googleusercontent.com/docs/securesc/ha0ro937gcuc7l7deffksulhg5h7mbp1/cpdvjmva6q04u1uhns725vor2olfh5id/1664845575000/14334177730080324288/*/1WQ9KZ-St4BqUWkqYJZYBIXQ8tT92DW_2?e=download&uuid=09127453-0610-42d9-a5d6-ae3121537f85\n",
            "Resolving doc-0k-1s-docs.googleusercontent.com (doc-0k-1s-docs.googleusercontent.com)... 173.194.216.132, 2607:f8b0:400c:c12::84\n",
            "Connecting to doc-0k-1s-docs.googleusercontent.com (doc-0k-1s-docs.googleusercontent.com)|173.194.216.132|:443... connected.\n",
            "HTTP request sent, awaiting response... 200 OK\n",
            "Length: 569872234 (543M) [application/x-zip-compressed]\n",
            "Saving to: ‘test.zip’\n",
            "\n",
            "test.zip            100%[===================>] 543.47M  59.4MB/s    in 7.5s    \n",
            "\n",
            "2022-10-04 01:06:28 (72.6 MB/s) - ‘test.zip’ saved [569872234/569872234]\n",
            "\n"
          ]
        }
      ]
    },
    {
      "cell_type": "markdown",
      "source": [
        "## Colbに自分のGooglアカウントのドライブをマウントする"
      ],
      "metadata": {
        "id": "xAoUw7n_7AUp"
      }
    },
    {
      "cell_type": "code",
      "source": [
        "# Googleドライブを操作するモジュールをimport\n",
        "from google.colab import drive\n",
        "# Googleドライブをマウント\n",
        "drive.mount('/content/drive')"
      ],
      "metadata": {
        "colab": {
          "base_uri": "https://localhost:8080/"
        },
        "id": "2To_D4ca5vPI",
        "outputId": "d5b3af86-0511-4f0d-a6a0-f995e0a8c05f"
      },
      "execution_count": 16,
      "outputs": [
        {
          "output_type": "stream",
          "name": "stdout",
          "text": [
            "Drive already mounted at /content/drive; to attempt to forcibly remount, call drive.mount(\"/content/drive\", force_remount=True).\n"
          ]
        }
      ]
    },
    {
      "cell_type": "markdown",
      "source": [
        "## DLしてきたファイルをマウントしたディレクトリにコピーする"
      ],
      "metadata": {
        "id": "wUQl7_318U-T"
      }
    },
    {
      "cell_type": "code",
      "source": [
        "# コピーファイルを置くディレクトリを作る\n",
        "import os\n",
        "dir_path = \"/content/drive/My Drive/2022LATE\"\n",
        "# すでにディレクトリがあってもエラーにしない\n",
        "os.makedirs(dir_path, exist_ok=True)\n",
        "!pwd # 今いるディレクトリを表示\n",
        "# ファイルをコピー\n",
        "!cp train.zip \"/content/drive/My Drive/2022LATE\"\n",
        "# test.zipはいったん使わないのでコピーしない"
      ],
      "metadata": {
        "colab": {
          "base_uri": "https://localhost:8080/"
        },
        "id": "WUoDxhSC7zQg",
        "outputId": "82573ab2-f7a7-445c-bd03-3d599b549f18"
      },
      "execution_count": 17,
      "outputs": [
        {
          "output_type": "stream",
          "name": "stdout",
          "text": [
            "/content\n"
          ]
        }
      ]
    },
    {
      "cell_type": "markdown",
      "source": [
        "# GoogleドライブからColabへファイルをコピー"
      ],
      "metadata": {
        "id": "55jE5lKg-PRV"
      }
    },
    {
      "cell_type": "code",
      "source": [
        "!cp \"/content/drive/My Drive/2022LATE/train.zip\" ."
      ],
      "metadata": {
        "id": "0F0PBceC9enG"
      },
      "execution_count": 18,
      "outputs": []
    },
    {
      "cell_type": "markdown",
      "source": [
        "## zipファイルを解凍する"
      ],
      "metadata": {
        "id": "QqkIktSy_eOZ"
      }
    },
    {
      "cell_type": "code",
      "source": [
        "# unzipコマンドで解凍\n",
        "!unzip -o -q \"train.zip\"\n",
        "print(\"zip解凍完了\")"
      ],
      "metadata": {
        "colab": {
          "base_uri": "https://localhost:8080/"
        },
        "id": "S2E8hNPL-nGq",
        "outputId": "a311ef59-6c09-4800-d7cd-e170e56ca307"
      },
      "execution_count": 19,
      "outputs": [
        {
          "output_type": "stream",
          "name": "stdout",
          "text": [
            "zip解凍完了\n"
          ]
        }
      ]
    },
    {
      "cell_type": "markdown",
      "source": [
        "## 解凍した画像を使って画像判定させる"
      ],
      "metadata": {
        "id": "DeQz87SaAQXH"
      }
    },
    {
      "cell_type": "code",
      "source": [
        "# 画像を指定する変数\n",
        "# filename = \"train/cat.101.jpg\"\n",
        "filename = \"ダウンロード.jpg\"\n",
        "plt.figure(figsize=(20, 10))\n",
        "for i in range(1):\n",
        "  showimg(filename, \"What's this??\", i+1)\n",
        "# ループ終わり\n",
        "plt.show()\n",
        "\n",
        "# 表示した画像を判定\n",
        "results = predict(filename, 10)\n",
        "for result in results:\n",
        "  print(result)"
      ],
      "metadata": {
        "colab": {
          "base_uri": "https://localhost:8080/",
          "height": 421
        },
        "id": "wnG1rTvn_6Ti",
        "outputId": "54b8e4f9-9a2b-45ba-92a5-12d2e826e72c"
      },
      "execution_count": 21,
      "outputs": [
        {
          "output_type": "display_data",
          "data": {
            "text/plain": [
              "<Figure size 1440x720 with 1 Axes>"
            ],
            "image/png": "[encoded data removed]"
          },
          "metadata": {
            "needs_background": "light"
          }
        },
        {
          "output_type": "stream",
          "name": "stdout",
          "text": [
            "('n01704323', 'triceratops', 0.91854215)\n",
            "('n01817953', 'African_grey', 0.048207175)\n",
            "('n01622779', 'great_grey_owl', 0.0031661699)\n",
            "('n02504458', 'African_elephant', 0.0023836577)\n",
            "('n01667778', 'terrapin', 0.0021528597)\n",
            "('n01818515', 'macaw', 0.002077994)\n",
            "('n01871265', 'tusker', 0.0014395621)\n",
            "('n03627232', 'knot', 0.0014182795)\n",
            "('n02124075', 'Egyptian_cat', 0.0010103876)\n",
            "('n01665541', 'leatherback_turtle', 0.00093069195)\n"
          ]
        }
      ]
    },
    {
      "cell_type": "code",
      "source": [],
      "metadata": {
        "id": "Y6J5VDn0A_aD"
      },
      "execution_count": 20,
      "outputs": []
    }
  ]
}