{
  "nbformat": 4,
  "nbformat_minor": 0,
  "metadata": {
    "colab": {
      "provenance": [],
      "authorship_tag": "ABX9TyPEZAgUf8ZOXAFi1q80F3uu",
      "include_colab_link": true
    },
    "kernelspec": {
      "name": "python3",
      "display_name": "Python 3"
    },
    "language_info": {
      "name": "python"
    }
  },
  "cells": [
    {
      "cell_type": "markdown",
      "metadata": {
        "id": "view-in-github",
        "colab_type": "text"
      },
      "source": [
        "<a href=\"https://colab.research.google.com/github/git2101487/DeepLearning2022Late/blob/main/%E3%83%86%E3%82%B9%E3%83%880913_2.ipynb\" target=\"_parent\"><img src=\"https://colab.research.google.com/assets/colab-badge.svg\" alt=\"Open In Colab\"/></a>"
      ]
    },
    {
      "cell_type": "markdown",
      "source": [
        "# 辞書型(dictionary)\n",
        "キーと値のペアで管理する"
      ],
      "metadata": {
        "id": "YePV8kvqy8Bv"
      }
    },
    {
      "cell_type": "markdown",
      "source": [
        "## 辞書型の定義"
      ],
      "metadata": {
        "id": "o2oZJ_byzVh6"
      }
    },
    {
      "cell_type": "code",
      "execution_count": 1,
      "metadata": {
        "colab": {
          "base_uri": "https://localhost:8080/"
        },
        "id": "i8tDLoegyca8",
        "outputId": "3e61c5d2-fdb7-48ac-b375-c6f3b3a1c2bd"
      },
      "outputs": [
        {
          "output_type": "stream",
          "name": "stdout",
          "text": [
            "{'アップル': 1, 'ペン': 2, 'パイナップル': 3}\n",
            "2\n"
          ]
        }
      ],
      "source": [
        "# 辞書型のデータを作って変数dictに代入\n",
        "# {'キーワード':値, 'キーワード':値} でデータを管理\n",
        "dict = {'アップル':1, 'ペン':2, 'パイナップル':3}\n",
        "print(dict)\n",
        "# 値を利用する時は、キーワードで指定\n",
        "print(dict['ペン'])"
      ]
    },
    {
      "cell_type": "markdown",
      "source": [
        "## 辞書型のキーワード一覧、値一覧を取得する"
      ],
      "metadata": {
        "id": "EIWxAPDq1bzt"
      }
    },
    {
      "cell_type": "code",
      "source": [
        "print(dict)\n",
        "# dictに入っているキーの一覧\n",
        "print(dict.keys())\n",
        "# dictに入っている値の一覧\n",
        "print(dict.values())"
      ],
      "metadata": {
        "colab": {
          "base_uri": "https://localhost:8080/"
        },
        "id": "F-TOg9Nv1tb-",
        "outputId": "8a88447f-95d6-4831-cfe3-4182512bdef6"
      },
      "execution_count": 2,
      "outputs": [
        {
          "output_type": "stream",
          "name": "stdout",
          "text": [
            "{'アップル': 1, 'ペン': 2, 'パイナップル': 3}\n",
            "dict_keys(['アップル', 'ペン', 'パイナップル'])\n",
            "dict_values([1, 2, 3])\n"
          ]
        }
      ]
    },
    {
      "cell_type": "markdown",
      "source": [
        "## 辞書型の追加・削除・更新"
      ],
      "metadata": {
        "id": "M3mbkloy09_Z"
      }
    },
    {
      "cell_type": "code",
      "source": [
        "print(dict)\n",
        "# dictにバナナろいうキーワードで値５を追加\n",
        "# print(dict.keys())\n",
        "dict['バナナ'] = 5\n",
        "print(dict)\n",
        "# キーワードがすでにあったら、そのキーワードの値を変更\n",
        "dict['バナナ'] = 100\n",
        "print(dict)\n",
        "# キーワードで指定したペアを削除\n",
        "dict.pop('バナナ')\n",
        "print(dict)"
      ],
      "metadata": {
        "colab": {
          "base_uri": "https://localhost:8080/"
        },
        "id": "kDBAcOwq0a_5",
        "outputId": "279072ff-3d0e-40f0-8013-f7dde9be20f6"
      },
      "execution_count": 3,
      "outputs": [
        {
          "output_type": "stream",
          "name": "stdout",
          "text": [
            "{'アップル': 1, 'ペン': 2, 'パイナップル': 3}\n",
            "{'アップル': 1, 'ペン': 2, 'パイナップル': 3, 'バナナ': 5}\n",
            "{'アップル': 1, 'ペン': 2, 'パイナップル': 3, 'バナナ': 100}\n",
            "{'アップル': 1, 'ペン': 2, 'パイナップル': 3}\n"
          ]
        }
      ]
    },
    {
      "cell_type": "markdown",
      "source": [
        "# 文字列の整形\n",
        "## 文字列の連結と繰り返し"
      ],
      "metadata": {
        "id": "yF-xMmG44XjV"
      }
    },
    {
      "cell_type": "code",
      "source": [
        "# 文字列の連結方法①\n",
        "apple = 'アップル'\n",
        "pen = 'ペン'\n",
        "print(apple + pen) # プラス記号で連結\n",
        "\n",
        "# 文字列の連結方法② 文字配列を連結する\n",
        "piko = ['ペン', 'パイナップル', 'アップル', 'ペン']\n",
        "# printメソッドで連結して表示　例): ,で連結\n",
        "print(','.join(piko))\n",
        "# 回数を指定してメッセージを表示\n",
        "pon = 'ポン'\n",
        "print(pon * 3)"
      ],
      "metadata": {
        "colab": {
          "base_uri": "https://localhost:8080/"
        },
        "id": "LFTXng1D1JFz",
        "outputId": "afa27df8-c0e4-4303-eb1c-2fa6e3cd2968"
      },
      "execution_count": 4,
      "outputs": [
        {
          "output_type": "stream",
          "name": "stdout",
          "text": [
            "アップルペン\n",
            "ペン,パイナップル,アップル,ペン\n",
            "ポンポンポン\n"
          ]
        }
      ]
    },
    {
      "cell_type": "markdown",
      "source": [
        "## 【重要】 文字列の整形(フォーマット)"
      ],
      "metadata": {
        "id": "GMMqqOSL64i-"
      }
    },
    {
      "cell_type": "code",
      "source": [
        "# 定式で指定した形のメッセージにする\n",
        "print('{}{}:{}円')\n",
        "# スロットを定義した順番に、その数だけデータを引き渡して文章を組み立てる\n",
        "print('{}{}:{}円'.format('アップル', 'ペン', 100))\n",
        "# スロットを値のインデックスで指定することもできる\n",
        "print('{1}{2}:{0}円'.format(100, 'アップル', 'ペン'))"
      ],
      "metadata": {
        "colab": {
          "base_uri": "https://localhost:8080/"
        },
        "id": "Wc0Smk165J_n",
        "outputId": "9ede0145-53bd-4719-ee6d-4c65d15d0722"
      },
      "execution_count": 5,
      "outputs": [
        {
          "output_type": "stream",
          "name": "stdout",
          "text": [
            "{}{}:{}円\n",
            "アップルペン:100円\n",
            "アップルペン:100円\n"
          ]
        }
      ]
    },
    {
      "cell_type": "markdown",
      "source": [
        "# コレクション演算\n",
        "リスト、タプル、つまり順番がある集合のことをシーケンスという。\n",
        "順番がない集合を集合型(セット)という\n",
        "上記2種類をまとめてコレクションという。\n",
        "コレクションは共通の演算が使える\n",
        "len(長さ、量を取得)、max(最大値を取得)、min(最小値を取得)など"
      ],
      "metadata": {
        "id": "wibizQcHWzst"
      }
    },
    {
      "cell_type": "code",
      "source": [
        "list = [1,1,2,3,4,5] # 6つの要素\n",
        "tuple = (10,9,7,7,8,8,9) # 7つの要素\n",
        "set = {1,-2,3,-4,5,-6,7,-8} # 8つの要素\n",
        "# リストの長さ、最大値、最小値\n",
        "print(len(list), max(list), min(list))\n",
        "# タプルの長さ、最大値、最小値\n",
        "print(len(tuple), max(tuple), min(tuple))\n",
        "# setの長さ(量)、最大値、最小値\n",
        "print(len(set), max(set), min(set))"
      ],
      "metadata": {
        "id": "gId1EOL_7zZU",
        "colab": {
          "base_uri": "https://localhost:8080/"
        },
        "outputId": "90974250-0785-40df-e0e5-d76457b74c75"
      },
      "execution_count": 9,
      "outputs": [
        {
          "output_type": "stream",
          "name": "stdout",
          "text": [
            "6 5 1\n",
            "7 10 7\n",
            "8 7 -8\n"
          ]
        }
      ]
    },
    {
      "cell_type": "code",
      "source": [],
      "metadata": {
        "id": "RGvovYwWY3bJ"
      },
      "execution_count": null,
      "outputs": []
    }
  ]
}