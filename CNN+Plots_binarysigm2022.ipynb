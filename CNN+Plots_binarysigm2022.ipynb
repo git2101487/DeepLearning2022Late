{
  "nbformat": 4,
  "nbformat_minor": 0,
  "metadata": {
    "colab": {
      "provenance": [],
      "authorship_tag": "ABX9TyNPHb76BzkIYN3hsAnqRfMQ",
      "include_colab_link": true
    },
    "kernelspec": {
      "name": "python3",
      "display_name": "Python 3"
    },
    "language_info": {
      "name": "python"
    }
  },
  "cells": [
    {
      "cell_type": "markdown",
      "metadata": {
        "id": "view-in-github",
        "colab_type": "text"
      },
      "source": [
        "<a href=\"https://colab.research.google.com/github/git2101487/DeepLearning2022Late/blob/main/CNN%2BPlots_binarysigm2022.ipynb\" target=\"_parent\"><img src=\"https://colab.research.google.com/assets/colab-badge.svg\" alt=\"Open In Colab\"/></a>"
      ]
    },
    {
      "cell_type": "markdown",
      "source": [
        "# 二値分類問題\n",
        "## 対象がAかどうか、可能性を出す"
      ],
      "metadata": {
        "id": "sAp432-ZGBU7"
      }
    },
    {
      "cell_type": "markdown",
      "source": [
        "## 学習モデルのライブラリを読み込む"
      ],
      "metadata": {
        "id": "ohDqGruRGzPK"
      }
    },
    {
      "cell_type": "code",
      "execution_count": null,
      "metadata": {
        "id": "cx6tsB-OFKvx"
      },
      "outputs": [],
      "source": [
        "from keras.models import Sequential, Model\n",
        "from keras.layers import Conv2D\n",
        "from keras.layers import Flatten\n",
        "from keras.layers import Dense"
      ]
    },
    {
      "cell_type": "markdown",
      "source": [
        "### SVG画像表示用のライブラリを読み込む"
      ],
      "metadata": {
        "id": "R0dAcNUTF_Be"
      }
    },
    {
      "cell_type": "code",
      "source": [
        "from IPython.display import SVG\n",
        "from keras.utils.vis_utils import model_to_dot"
      ],
      "metadata": {
        "id": "ZmDoE0rAHXSy"
      },
      "execution_count": null,
      "outputs": []
    },
    {
      "cell_type": "markdown",
      "source": [
        "## 学習モデルを生成"
      ],
      "metadata": {
        "id": "Lqqf78I4H-n-"
      }
    },
    {
      "cell_type": "code",
      "source": [
        "model = Sequential()"
      ],
      "metadata": {
        "id": "K35LBVCQHtzO"
      },
      "execution_count": null,
      "outputs": []
    },
    {
      "cell_type": "markdown",
      "source": [
        "### ニューロン層を追加する"
      ],
      "metadata": {
        "id": "VDq-ng_FIZpH"
      }
    },
    {
      "cell_type": "code",
      "source": [
        "# 畳み込み層を追加\n",
        "model.add(Conv2D(\n",
        "    filters=3, # フィルター3パターン\n",
        "    kernel_size=(3, 3), # 受容野縦3,横3\n",
        "    input_shape=(6, 6, 1), # 入力画像の1個分 縦3, 横3\n",
        "    padding='same', # ゼロパディング\n",
        "    name='Conv2D_1'\n",
        "))"
      ],
      "metadata": {
        "id": "R9TlzEFPIEkc"
      },
      "execution_count": null,
      "outputs": []
    },
    {
      "cell_type": "code",
      "source": [
        "# 全結合層を追加する\n",
        "model.add(Flatten(name='Flatten_1'))"
      ],
      "metadata": {
        "id": "IlQml9J6J1o6"
      },
      "execution_count": null,
      "outputs": []
    },
    {
      "cell_type": "code",
      "source": [
        "# 全結合のデータに二値分類する層を追加\n",
        "model.add(Dense(\n",
        "    units=1, # 1つの判定 (YES/NO) についての可能性を出す\n",
        "    activation='sigmoid', # 活性化関数はsigmoid関数(結果：0～1)\n",
        "    name='Dense_1'\n",
        "))"
      ],
      "metadata": {
        "id": "qLPmz3-uKaoT"
      },
      "execution_count": null,
      "outputs": []
    },
    {
      "cell_type": "markdown",
      "source": [
        "## SVG画像でモデルの形を表示する"
      ],
      "metadata": {
        "id": "oTgmh54sNVA8"
      }
    },
    {
      "cell_type": "code",
      "source": [
        "SVG(model_to_dot(model, show_shapes=True,\n",
        "                 dpi=None).create(prog='dot', format='svg'))"
      ],
      "metadata": {
        "colab": {
          "base_uri": "https://localhost:8080/",
          "height": 427
        },
        "id": "iwoQAF1tL6F6",
        "outputId": "09af2b40-c934-45b1-a679-a61bdbad2643"
      },
      "execution_count": null,
      "outputs": [
        {
          "output_type": "execute_result",
          "data": {
            "text/plain": [
              "<IPython.core.display.SVG object>"
            ],
            "image/svg+xml": "<svg height=\"304pt\" viewBox=\"0.00 0.00 368.00 304.00\" width=\"368pt\" xmlns=\"http://www.w3.org/2000/svg\" xmlns:xlink=\"http://www.w3.org/1999/xlink\">\n<g class=\"graph\" id=\"graph0\" transform=\"scale(1 1) rotate(0) translate(4 300)\">\n<title>G</title>\n<polygon fill=\"#ffffff\" points=\"-4,4 -4,-300 364,-300 364,4 -4,4\" stroke=\"transparent\"/>\n<!-- dpi -->\n<g class=\"node\" id=\"node1\">\n<title>dpi</title>\n<ellipse cx=\"27\" cy=\"-272.5\" fill=\"none\" rx=\"27\" ry=\"18\" stroke=\"#000000\"/>\n<text fill=\"#000000\" font-family=\"Times,serif\" font-size=\"14.00\" text-anchor=\"middle\" x=\"27\" y=\"-268.8\">dpi</text>\n</g>\n<!-- 140566436550288 -->\n<g class=\"node\" id=\"node2\">\n<title>140566436550288</title>\n<polygon fill=\"none\" points=\"72,-249.5 72,-295.5 360,-295.5 360,-249.5 72,-249.5\" stroke=\"#000000\"/>\n<text fill=\"#000000\" font-family=\"Times,serif\" font-size=\"14.00\" text-anchor=\"middle\" x=\"131.5\" y=\"-280.3\">Conv2D_1_input</text>\n<polyline fill=\"none\" points=\"72,-272.5 191,-272.5 \" stroke=\"#000000\"/>\n<text fill=\"#000000\" font-family=\"Times,serif\" font-size=\"14.00\" text-anchor=\"middle\" x=\"131.5\" y=\"-257.3\">InputLayer</text>\n<polyline fill=\"none\" points=\"191,-249.5 191,-295.5 \" stroke=\"#000000\"/>\n<text fill=\"#000000\" font-family=\"Times,serif\" font-size=\"14.00\" text-anchor=\"middle\" x=\"220\" y=\"-280.3\">input:</text>\n<polyline fill=\"none\" points=\"191,-272.5 249,-272.5 \" stroke=\"#000000\"/>\n<text fill=\"#000000\" font-family=\"Times,serif\" font-size=\"14.00\" text-anchor=\"middle\" x=\"220\" y=\"-257.3\">output:</text>\n<polyline fill=\"none\" points=\"249,-249.5 249,-295.5 \" stroke=\"#000000\"/>\n<text fill=\"#000000\" font-family=\"Times,serif\" font-size=\"14.00\" text-anchor=\"middle\" x=\"304.5\" y=\"-280.3\">[(None, 6, 6, 1)]</text>\n<polyline fill=\"none\" points=\"249,-272.5 360,-272.5 \" stroke=\"#000000\"/>\n<text fill=\"#000000\" font-family=\"Times,serif\" font-size=\"14.00\" text-anchor=\"middle\" x=\"304.5\" y=\"-257.3\">[(None, 6, 6, 1)]</text>\n</g>\n<!-- 140566316250640 -->\n<g class=\"node\" id=\"node3\">\n<title>140566316250640</title>\n<polygon fill=\"none\" points=\"95,-166.5 95,-212.5 337,-212.5 337,-166.5 95,-166.5\" stroke=\"#000000\"/>\n<text fill=\"#000000\" font-family=\"Times,serif\" font-size=\"14.00\" text-anchor=\"middle\" x=\"136\" y=\"-197.3\">Conv2D_1</text>\n<polyline fill=\"none\" points=\"95,-189.5 177,-189.5 \" stroke=\"#000000\"/>\n<text fill=\"#000000\" font-family=\"Times,serif\" font-size=\"14.00\" text-anchor=\"middle\" x=\"136\" y=\"-174.3\">Conv2D</text>\n<polyline fill=\"none\" points=\"177,-166.5 177,-212.5 \" stroke=\"#000000\"/>\n<text fill=\"#000000\" font-family=\"Times,serif\" font-size=\"14.00\" text-anchor=\"middle\" x=\"206\" y=\"-197.3\">input:</text>\n<polyline fill=\"none\" points=\"177,-189.5 235,-189.5 \" stroke=\"#000000\"/>\n<text fill=\"#000000\" font-family=\"Times,serif\" font-size=\"14.00\" text-anchor=\"middle\" x=\"206\" y=\"-174.3\">output:</text>\n<polyline fill=\"none\" points=\"235,-166.5 235,-212.5 \" stroke=\"#000000\"/>\n<text fill=\"#000000\" font-family=\"Times,serif\" font-size=\"14.00\" text-anchor=\"middle\" x=\"286\" y=\"-197.3\">(None, 6, 6, 1)</text>\n<polyline fill=\"none\" points=\"235,-189.5 337,-189.5 \" stroke=\"#000000\"/>\n<text fill=\"#000000\" font-family=\"Times,serif\" font-size=\"14.00\" text-anchor=\"middle\" x=\"286\" y=\"-174.3\">(None, 6, 6, 3)</text>\n</g>\n<!-- 140566436550288&#45;&gt;140566316250640 -->\n<g class=\"edge\" id=\"edge1\">\n<title>140566436550288-&gt;140566316250640</title>\n<path d=\"M216,-249.3799C216,-241.1745 216,-231.7679 216,-222.8786\" fill=\"none\" stroke=\"#000000\"/>\n<polygon fill=\"#000000\" points=\"219.5001,-222.784 216,-212.784 212.5001,-222.784 219.5001,-222.784\" stroke=\"#000000\"/>\n</g>\n<!-- 140566315594640 -->\n<g class=\"node\" id=\"node4\">\n<title>140566315594640</title>\n<polygon fill=\"none\" points=\"100.5,-83.5 100.5,-129.5 331.5,-129.5 331.5,-83.5 100.5,-83.5\" stroke=\"#000000\"/>\n<text fill=\"#000000\" font-family=\"Times,serif\" font-size=\"14.00\" text-anchor=\"middle\" x=\"136\" y=\"-114.3\">Flatten_1</text>\n<polyline fill=\"none\" points=\"100.5,-106.5 171.5,-106.5 \" stroke=\"#000000\"/>\n<text fill=\"#000000\" font-family=\"Times,serif\" font-size=\"14.00\" text-anchor=\"middle\" x=\"136\" y=\"-91.3\">Flatten</text>\n<polyline fill=\"none\" points=\"171.5,-83.5 171.5,-129.5 \" stroke=\"#000000\"/>\n<text fill=\"#000000\" font-family=\"Times,serif\" font-size=\"14.00\" text-anchor=\"middle\" x=\"200.5\" y=\"-114.3\">input:</text>\n<polyline fill=\"none\" points=\"171.5,-106.5 229.5,-106.5 \" stroke=\"#000000\"/>\n<text fill=\"#000000\" font-family=\"Times,serif\" font-size=\"14.00\" text-anchor=\"middle\" x=\"200.5\" y=\"-91.3\">output:</text>\n<polyline fill=\"none\" points=\"229.5,-83.5 229.5,-129.5 \" stroke=\"#000000\"/>\n<text fill=\"#000000\" font-family=\"Times,serif\" font-size=\"14.00\" text-anchor=\"middle\" x=\"280.5\" y=\"-114.3\">(None, 6, 6, 3)</text>\n<polyline fill=\"none\" points=\"229.5,-106.5 331.5,-106.5 \" stroke=\"#000000\"/>\n<text fill=\"#000000\" font-family=\"Times,serif\" font-size=\"14.00\" text-anchor=\"middle\" x=\"280.5\" y=\"-91.3\">(None, 108)</text>\n</g>\n<!-- 140566316250640&#45;&gt;140566315594640 -->\n<g class=\"edge\" id=\"edge2\">\n<title>140566316250640-&gt;140566315594640</title>\n<path d=\"M216,-166.3799C216,-158.1745 216,-148.7679 216,-139.8786\" fill=\"none\" stroke=\"#000000\"/>\n<polygon fill=\"#000000\" points=\"219.5001,-139.784 216,-129.784 212.5001,-139.784 219.5001,-139.784\" stroke=\"#000000\"/>\n</g>\n<!-- 140566315543504 -->\n<g class=\"node\" id=\"node5\">\n<title>140566315543504</title>\n<polygon fill=\"none\" points=\"110,-.5 110,-46.5 322,-46.5 322,-.5 110,-.5\" stroke=\"#000000\"/>\n<text fill=\"#000000\" font-family=\"Times,serif\" font-size=\"14.00\" text-anchor=\"middle\" x=\"143.5\" y=\"-31.3\">Dense_1</text>\n<polyline fill=\"none\" points=\"110,-23.5 177,-23.5 \" stroke=\"#000000\"/>\n<text fill=\"#000000\" font-family=\"Times,serif\" font-size=\"14.00\" text-anchor=\"middle\" x=\"143.5\" y=\"-8.3\">Dense</text>\n<polyline fill=\"none\" points=\"177,-.5 177,-46.5 \" stroke=\"#000000\"/>\n<text fill=\"#000000\" font-family=\"Times,serif\" font-size=\"14.00\" text-anchor=\"middle\" x=\"206\" y=\"-31.3\">input:</text>\n<polyline fill=\"none\" points=\"177,-23.5 235,-23.5 \" stroke=\"#000000\"/>\n<text fill=\"#000000\" font-family=\"Times,serif\" font-size=\"14.00\" text-anchor=\"middle\" x=\"206\" y=\"-8.3\">output:</text>\n<polyline fill=\"none\" points=\"235,-.5 235,-46.5 \" stroke=\"#000000\"/>\n<text fill=\"#000000\" font-family=\"Times,serif\" font-size=\"14.00\" text-anchor=\"middle\" x=\"278.5\" y=\"-31.3\">(None, 108)</text>\n<polyline fill=\"none\" points=\"235,-23.5 322,-23.5 \" stroke=\"#000000\"/>\n<text fill=\"#000000\" font-family=\"Times,serif\" font-size=\"14.00\" text-anchor=\"middle\" x=\"278.5\" y=\"-8.3\">(None, 1)</text>\n</g>\n<!-- 140566315594640&#45;&gt;140566315543504 -->\n<g class=\"edge\" id=\"edge3\">\n<title>140566315594640-&gt;140566315543504</title>\n<path d=\"M216,-83.3799C216,-75.1745 216,-65.7679 216,-56.8786\" fill=\"none\" stroke=\"#000000\"/>\n<polygon fill=\"#000000\" points=\"219.5001,-56.784 216,-46.784 212.5001,-56.784 219.5001,-56.784\" stroke=\"#000000\"/>\n</g>\n</g>\n</svg>"
          },
          "metadata": {},
          "execution_count": 8
        }
      ]
    },
    {
      "cell_type": "code",
      "source": [],
      "metadata": {
        "id": "oCOgJmdkNeBU"
      },
      "execution_count": null,
      "outputs": []
    }
  ]
}